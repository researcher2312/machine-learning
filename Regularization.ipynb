{
 "cells": [
  {
   "cell_type": "markdown",
   "id": "tutorial-aruba",
   "metadata": {},
   "source": [
    "# <center>Regularization</center>"
   ]
  },
  {
   "cell_type": "code",
   "execution_count": 1,
   "id": "continued-armstrong",
   "metadata": {},
   "outputs": [],
   "source": [
    "import numpy as np\n",
    "import pandas as pd\n",
    "from matplotlib import pyplot as plt\n",
    "from sklearn.datasets import load_boston\n",
    "from sklearn.model_selection import train_test_split\n",
    "from sklearn.linear_model import LinearRegression\n",
    "import warnings\n",
    "warnings.simplefilter(action='ignore', category=FutureWarning)\n",
    "boston = load_boston()"
   ]
  },
  {
   "cell_type": "markdown",
   "id": "dd7a746d",
   "metadata": {},
   "source": [
    "### Database information:"
   ]
  },
  {
   "cell_type": "code",
   "execution_count": 2,
   "id": "grateful-peace",
   "metadata": {},
   "outputs": [
    {
     "name": "stdout",
     "output_type": "stream",
     "text": [
      "['CRIM' 'ZN' 'INDUS' 'CHAS' 'NOX' 'RM' 'AGE' 'DIS' 'RAD' 'TAX' 'PTRATIO'\n",
      " 'B' 'LSTAT']\n"
     ]
    }
   ],
   "source": [
    "print(boston.feature_names)"
   ]
  },
  {
   "cell_type": "code",
   "execution_count": 3,
   "id": "bulgarian-budapest",
   "metadata": {},
   "outputs": [
    {
     "name": "stdout",
     "output_type": "stream",
     "text": [
      "(506, 13)\n"
     ]
    }
   ],
   "source": [
    "print(boston.data.shape)"
   ]
  },
  {
   "cell_type": "code",
   "execution_count": 4,
   "id": "green-newark",
   "metadata": {},
   "outputs": [
    {
     "name": "stdout",
     "output_type": "stream",
     "text": [
      "        0     1     2    3      4      5     6       7    8      9     10  \\\n",
      "0  0.00632  18.0  2.31  0.0  0.538  6.575  65.2  4.0900  1.0  296.0  15.3   \n",
      "1  0.02731   0.0  7.07  0.0  0.469  6.421  78.9  4.9671  2.0  242.0  17.8   \n",
      "2  0.02729   0.0  7.07  0.0  0.469  7.185  61.1  4.9671  2.0  242.0  17.8   \n",
      "3  0.03237   0.0  2.18  0.0  0.458  6.998  45.8  6.0622  3.0  222.0  18.7   \n",
      "4  0.06905   0.0  2.18  0.0  0.458  7.147  54.2  6.0622  3.0  222.0  18.7   \n",
      "\n",
      "       11    12  \n",
      "0  396.90  4.98  \n",
      "1  396.90  9.14  \n",
      "2  392.83  4.03  \n",
      "3  394.63  2.94  \n",
      "4  396.90  5.33  \n"
     ]
    }
   ],
   "source": [
    "bos = pd.DataFrame(boston.data)\n",
    "print(bos.head())"
   ]
  },
  {
   "cell_type": "markdown",
   "id": "9dd10d69",
   "metadata": {},
   "source": [
    "### Database splitting and validation:"
   ]
  },
  {
   "cell_type": "code",
   "execution_count": 5,
   "id": "powerful-crowd",
   "metadata": {},
   "outputs": [],
   "source": [
    "X_train, X_test, y_train, y_test = train_test_split(boston.data, boston.target, test_size=0.2, random_state=161)"
   ]
  },
  {
   "cell_type": "code",
   "execution_count": 6,
   "id": "governmental-circus",
   "metadata": {},
   "outputs": [
    {
     "name": "stdout",
     "output_type": "stream",
     "text": [
      "506\n",
      "0.7984189723320159\n",
      "0.2015810276679842\n"
     ]
    }
   ],
   "source": [
    "print(bos.shape[0])\n",
    "print(float(X_train.shape[0]) / float(bos.shape[0]))\n",
    "print(float(X_test.shape[0]) / float(bos.shape[0]))"
   ]
  },
  {
   "cell_type": "markdown",
   "id": "absolute-shock",
   "metadata": {},
   "source": [
    "## Linear regression"
   ]
  },
  {
   "cell_type": "markdown",
   "id": "261bfc49",
   "metadata": {},
   "source": [
    "Creating, fitting and performing a prediction using a linear regression model:"
   ]
  },
  {
   "cell_type": "code",
   "execution_count": 7,
   "id": "welsh-tuning",
   "metadata": {},
   "outputs": [],
   "source": [
    "regr = LinearRegression()\n",
    "regr.fit(X_train, y_train)\n",
    "y_pred = regr.predict(X_test)"
   ]
  },
  {
   "cell_type": "code",
   "execution_count": 8,
   "id": "flying-majority",
   "metadata": {},
   "outputs": [
    {
     "data": {
      "image/png": "[encoded data removed]",
      "text/plain": [
       "<Figure size 432x288 with 1 Axes>"
      ]
     },
     "metadata": {
      "needs_background": "light"
     },
     "output_type": "display_data"
    }
   ],
   "source": [
    "plt.scatter(y_test, y_pred)\n",
    "plt.xlabel(\"Prices: $Y_i$\")\n",
    "plt.ylabel(\"Predicted prices: $\\hat{Y}_i$\")\n",
    "plt.title(\"Prices vs Predicted prices: $Y_i$ vs $\\hat{Y}_i$\")\n",
    "plt.show()"
   ]
  },
  {
   "cell_type": "code",
   "execution_count": 9,
   "id": "furnished-hygiene",
   "metadata": {},
   "outputs": [
    {
     "name": "stdout",
     "output_type": "stream",
     "text": [
      "Residual sum of squares: 21.03361641183322\n"
     ]
    }
   ],
   "source": [
    "error = np.mean((regr.predict(X_test) - y_test) ** 2)\n",
    "print(\"Residual sum of squares: {}\".format(error))"
   ]
  },
  {
   "cell_type": "code",
   "execution_count": 10,
   "id": "powerful-faculty",
   "metadata": {},
   "outputs": [
    {
     "name": "stdout",
     "output_type": "stream",
     "text": [
      "Model score: 0.69199807414657\n"
     ]
    }
   ],
   "source": [
    "score = regr.score(X_test, y_test)\n",
    "print(\"Model score: {}\".format(score))"
   ]
  },
  {
   "cell_type": "markdown",
   "id": "serious-filing",
   "metadata": {},
   "source": [
    "As the model is not accurate, the data needs to be normalised. Second degree polynomial will be used for predictions."
   ]
  },
  {
   "cell_type": "code",
   "execution_count": 11,
   "id": "understood-terrorist",
   "metadata": {},
   "outputs": [],
   "source": [
    "from sklearn.preprocessing import StandardScaler\n",
    "from sklearn.pipeline import Pipeline\n",
    "from sklearn.preprocessing import PolynomialFeatures\n",
    "\n",
    "pipe = Pipeline([('scaler', StandardScaler()), ('polynomial', PolynomialFeatures(degree=2)), ('regression', LinearRegression())])\n",
    "pipe.fit(X_train, y_train)\n",
    "Y_pred = pipe.predict(X_test)"
   ]
  },
  {
   "cell_type": "code",
   "execution_count": 12,
   "id": "attended-content",
   "metadata": {},
   "outputs": [
    {
     "data": {
      "text/plain": [
       "Text(0.5, 1.0, 'Prices vs Predicted prices: $Y_i$ vs $\\\\hat{Y}_i$')"
      ]
     },
     "execution_count": 12,
     "metadata": {},
     "output_type": "execute_result"
    },
    {
     "data": {
      "image/png": "[encoded data removed]",
      "text/plain": [
       "<Figure size 432x288 with 1 Axes>"
      ]
     },
     "metadata": {
      "needs_background": "light"
     },
     "output_type": "display_data"
    }
   ],
   "source": [
    "plt.scatter(y_test, Y_pred)\n",
    "plt.xlabel(\"Prices: $Y_i$\")\n",
    "plt.ylabel(\"Predicted prices: $\\hat{Y}_i$\")\n",
    "plt.title(\"Prices vs Predicted prices: $Y_i$ vs $\\hat{Y}_i$\")"
   ]
  },
  {
   "cell_type": "code",
   "execution_count": 13,
   "id": "rocky-member",
   "metadata": {},
   "outputs": [
    {
     "name": "stdout",
     "output_type": "stream",
     "text": [
      "Residual sum of squares: 11.099643400790645\n"
     ]
    }
   ],
   "source": [
    "error = np.mean((pipe.predict(X_test) - y_test) ** 2)\n",
    "print(\"Residual sum of squares: {}\".format(error))"
   ]
  },
  {
   "cell_type": "code",
   "execution_count": 14,
   "id": "velvet-information",
   "metadata": {},
   "outputs": [
    {
     "name": "stdout",
     "output_type": "stream",
     "text": [
      "Model score: 0.8374643961935849\n"
     ]
    }
   ],
   "source": [
    "score = pipe.score(X_test, y_test)\n",
    "print(\"Model score: {}\".format(score))"
   ]
  },
  {
   "cell_type": "markdown",
   "id": "delayed-possible",
   "metadata": {},
   "source": [
    "### Data regularisation with L1 norm"
   ]
  },
  {
   "cell_type": "code",
   "execution_count": 15,
   "id": "prescribed-gateway",
   "metadata": {},
   "outputs": [],
   "source": [
    "from sklearn.linear_model import Lasso\n",
    "scores = []\n",
    "alphas = np.logspace(-4, 1, num=30)\n",
    "for testedAlpha in alphas:\n",
    "    clf = Lasso(alpha = testedAlpha)\n",
    "    clf.fit(X_train, y_train)\n",
    "    scores.append(clf.score(X_test, y_test))"
   ]
  },
  {
   "cell_type": "code",
   "execution_count": 16,
   "id": "bottom-credit",
   "metadata": {},
   "outputs": [
    {
     "data": {
      "image/png": "[encoded data removed]",
      "text/plain": [
       "<Figure size 432x288 with 1 Axes>"
      ]
     },
     "metadata": {
      "needs_background": "light"
     },
     "output_type": "display_data"
    }
   ],
   "source": [
    "plt.scatter(alphas, scores)\n",
    "plt.xscale('log')"
   ]
  },
  {
   "cell_type": "markdown",
   "id": "cultural-thong",
   "metadata": {},
   "source": [
    "Data regularisation with L2 norm"
   ]
  },
  {
   "cell_type": "code",
   "execution_count": 17,
   "id": "adopted-hindu",
   "metadata": {},
   "outputs": [],
   "source": [
    "from sklearn.linear_model import Ridge\n",
    "scores = []\n",
    "alphas = np.logspace(-5, 5, num=30)\n",
    "for testedAlpha in alphas:\n",
    "    rlf = Ridge(alpha = testedAlpha)\n",
    "    rlf.fit(X_train, y_train)\n",
    "    scores.append(rlf.score(X_test, y_test))"
   ]
  },
  {
   "cell_type": "code",
   "execution_count": 18,
   "id": "unauthorized-armstrong",
   "metadata": {},
   "outputs": [
    {
     "data": {
      "image/png": "[encoded data removed]",
      "text/plain": [
       "<Figure size 432x288 with 1 Axes>"
      ]
     },
     "metadata": {
      "needs_background": "light"
     },
     "output_type": "display_data"
    }
   ],
   "source": [
    "plt.scatter(alphas, scores)\n",
    "plt.xscale('log')"
   ]
  },
  {
   "cell_type": "markdown",
   "id": "coral-mattress",
   "metadata": {},
   "source": [
    "## Regularisation for logistic regression"
   ]
  },
  {
   "cell_type": "code",
   "execution_count": 19,
   "id": "innovative-lightning",
   "metadata": {},
   "outputs": [],
   "source": [
    "from sklearn.datasets import load_breast_cancer\n",
    "from sklearn.linear_model import LogisticRegression\n",
    "cancer = load_breast_cancer()"
   ]
  },
  {
   "cell_type": "code",
   "execution_count": 20,
   "id": "db3cd304",
   "metadata": {},
   "outputs": [
    {
     "data": {
      "text/plain": [
       "False"
      ]
     },
     "execution_count": 20,
     "metadata": {},
     "output_type": "execute_result"
    }
   ],
   "source": [
    "pd.isnull(cancer)\n"
   ]
  },
  {
   "cell_type": "markdown",
   "id": "faecb679",
   "metadata": {},
   "source": [
    "The database does not contain any missing values"
   ]
  },
  {
   "cell_type": "code",
   "execution_count": 21,
   "id": "frank-laundry",
   "metadata": {},
   "outputs": [],
   "source": [
    "X_train, X_test, y_train, y_test = train_test_split(cancer.data, cancer.target, test_size=0.3, random_state=161)"
   ]
  },
  {
   "cell_type": "markdown",
   "id": "continued-miller",
   "metadata": {},
   "source": [
    "L1 regularisation for C=1"
   ]
  },
  {
   "cell_type": "code",
   "execution_count": 22,
   "id": "successful-skill",
   "metadata": {},
   "outputs": [
    {
     "data": {
      "text/plain": [
       "0.9298245614035088"
      ]
     },
     "execution_count": 22,
     "metadata": {},
     "output_type": "execute_result"
    }
   ],
   "source": [
    "clf = LogisticRegression(penalty='l1', solver='liblinear', C=1).fit(X_train, y_train)\n",
    "clf.score(X_test, y_test)"
   ]
  },
  {
   "cell_type": "code",
   "execution_count": 23,
   "id": "bottom-working",
   "metadata": {},
   "outputs": [],
   "source": [
    "scores = []\n",
    "alphas = np.logspace(-4, 1, num=10)\n",
    "for testedAlpha in alphas:\n",
    "    clf = LogisticRegression(penalty='l2', solver='liblinear', C=testedAlpha).fit(X_train, y_train)\n",
    "    scores.append(clf.score(X_test, y_test))"
   ]
  },
  {
   "cell_type": "code",
   "execution_count": 24,
   "id": "jewish-anxiety",
   "metadata": {},
   "outputs": [
    {
     "data": {
      "image/png": "[encoded data removed]",
      "text/plain": [
       "<Figure size 432x288 with 1 Axes>"
      ]
     },
     "metadata": {
      "needs_background": "light"
     },
     "output_type": "display_data"
    }
   ],
   "source": [
    "plt.scatter(alphas, scores)\n",
    "plt.xscale('log')"
   ]
  },
  {
   "cell_type": "markdown",
   "id": "b3f534cf",
   "metadata": {},
   "source": [
    "K Nearest Neighbors method"
   ]
  },
  {
   "cell_type": "code",
   "execution_count": 25,
   "id": "e023ccc2",
   "metadata": {},
   "outputs": [
    {
     "data": {
      "image/png": "[encoded data removed]",
      "text/plain": [
       "<Figure size 432x288 with 1 Axes>"
      ]
     },
     "metadata": {
      "needs_background": "light"
     },
     "output_type": "display_data"
    }
   ],
   "source": [
    "from sklearn.neighbors import KNeighborsClassifier\n",
    "from sklearn.metrics import accuracy_score\n",
    "changesInK = []\n",
    "for i in range (1, 70):\n",
    "    neigh = KNeighborsClassifier(n_neighbors=i).fit(X_train, y_train)\n",
    "    changesInK.append(accuracy_score(y_test, neigh.predict(X_test)))\n",
    "plot = plt.plot(changesInK)"
   ]
  },
  {
   "cell_type": "markdown",
   "id": "d41aae71",
   "metadata": {},
   "source": [
    "The optimal value for k is between 15 and 20."
   ]
  },
  {
   "cell_type": "markdown",
   "id": "a6b9c6ec",
   "metadata": {},
   "source": [
    "### Decision tree method"
   ]
  },
  {
   "cell_type": "code",
   "execution_count": 26,
   "id": "ee39cd16",
   "metadata": {},
   "outputs": [
    {
     "data": {
      "image/png": "[encoded data removed]",
      "text/plain": [
       "<Figure size 432x288 with 1 Axes>"
      ]
     },
     "metadata": {
      "needs_background": "light"
     },
     "output_type": "display_data"
    }
   ],
   "source": [
    "from sklearn import tree\n",
    "changesInK = []\n",
    "for i in range (1, 120):\n",
    "    clf = tree.DecisionTreeClassifier(max_depth=i).fit(X_train, y_train)\n",
    "    changesInK.append(accuracy_score(y_test, clf.predict(X_test)))\n",
    "plot = plt.plot(changesInK)"
   ]
  },
  {
   "cell_type": "markdown",
   "id": "57f3b099",
   "metadata": {},
   "source": [
    "Optimal tree depth is hard to choose, but the best results are displayed in range from 10 to 20."
   ]
  }
 ],
 "metadata": {
  "kernelspec": {
   "display_name": "Python 3",
   "language": "python",
   "name": "python3"
  },
  "language_info": {
   "codemirror_mode": {
    "name": "ipython",
    "version": 3
   },
   "file_extension": ".py",
   "mimetype": "text/x-python",
   "name": "python",
   "nbconvert_exporter": "python",
   "pygments_lexer": "ipython3",
   "version": "3.9.7"
  }
 },
 "nbformat": 4,
 "nbformat_minor": 5
}
