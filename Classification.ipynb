{
 "cells": [
  {
   "cell_type": "markdown",
   "id": "fd22753e",
   "metadata": {},
   "source": [
    "# <center> Classification\n",
    "<center> Machine Learning lab 3\n",
    "<center> 08.11.2021"
   ]
  },
  {
   "cell_type": "markdown",
   "id": "c56265d0",
   "metadata": {},
   "source": [
    "## K nearest neighbors - own implementation"
   ]
  },
  {
   "cell_type": "code",
   "execution_count": 1,
   "id": "boxed-agenda",
   "metadata": {},
   "outputs": [],
   "source": [
    "from sklearn import datasets\n",
    "from sklearn.model_selection import train_test_split\n",
    "from scipy.spatial import distance\n",
    "from sklearn.metrics import accuracy_score\n",
    "import numpy as np\n",
    "import matplotlib.pyplot as plt\n",
    "from scipy.stats import mode\n",
    "\n",
    "%config InlineBackend.figure_format = 'svg'\n",
    "plt.rcParams[\"figure.figsize\"] = (16,9)"
   ]
  },
  {
   "cell_type": "code",
   "execution_count": 2,
   "id": "marked-bottom",
   "metadata": {},
   "outputs": [],
   "source": [
    "db_iris = datasets.load_iris()\n",
    " \n",
    "#separate the set for teaching and testing, test_size - percentage share (example 70% for training and 30% for testing)\n",
    "features_train, features_test, labels_train, labels_test = train_test_split(db_iris.data, db_iris.target, test_size=0.3)"
   ]
  },
  {
   "cell_type": "code",
   "execution_count": 3,
   "id": "altered-jurisdiction",
   "metadata": {},
   "outputs": [],
   "source": [
    "def kNearestNeighbors(features_train, features_test, labels_train, k):\n",
    "    results = []\n",
    "    for pointInTraining in features_test:\n",
    "        distances = np.linalg.norm(features_train - pointInTraining, axis=1)\n",
    "        # distances =  distance.euclidean(features_train, pointInTraining)\n",
    "        nearestNeighborIds = distances.argsort()[:k]\n",
    "        nearestNeighborLabels = labels_train[nearestNeighborIds]\n",
    "        results.append(mode(nearestNeighborLabels)[0])\n",
    "    return results"
   ]
  },
  {
   "cell_type": "code",
   "execution_count": 4,
   "id": "disturbed-wrapping",
   "metadata": {},
   "outputs": [
    {
     "data": {
      "image/svg+xml": "<?xml version=\"1.0\" encoding=\"utf-8\" standalone=\"no\"?>\n<!DOCTYPE svg PUBLIC \"-//W3C//DTD SVG 1.1//EN\"\n  \"http://www.w3.org/Graphics/SVG/1.1/DTD/svg11.dtd\">\n<svg xmlns:xlink=\"http://www.w3.org/1999/xlink\" width=\"936.465625pt\" height=\"524.117344pt\" viewBox=\"0 0 936.465625 524.117344\" xmlns=\"http://www.w3.org/2000/svg\" version=\"1.1\">\n <metadata>\n  <rdf:RDF xmlns:dc=\"http://purl.org/dc/elements/1.1/\" xmlns:cc=\"http://creativecommons.org/ns#\" xmlns:rdf=\"http://www.w3.org/1999/02/22-rdf-syntax-ns#\">\n   <cc:Work>\n    <dc:type rdf:resource=\"http://purl.org/dc/dcmitype/StillImage\"/>\n    <dc:date>2022-01-23T13:07:00.579370</dc:date>\n    <dc:format>image/svg+xml</dc:format>\n    <dc:creator>\n     <cc:Agent>\n      <dc:title>Matplotlib v3.5.0, https://matplotlib.org/</dc:title>\n     </cc:Agent>\n    </dc:creator>\n   </cc:Work>\n  </rdf:RDF>\n </metadata>\n <defs>\n  <style type=\"text/css\">*{stroke-linejoin: round; stroke-linecap: butt}</style>\n </defs>\n <g id=\"figure_1\">\n  <g id=\"patch_1\">\n   <path d=\"M 0 524.117344 \nL 936.465625 524.117344 \nL 936.465625 0 \nL 0 0 \nL 0 524.117344 \nz\n\" style=\"fill: none\"/>\n  </g>\n  <g id=\"axes_1\">\n   <g id=\"patch_2\">\n    <path d=\"M 36.465625 500.239219 \nL 929.265625 500.239219 \nL 929.265625 10.999219 \nL 36.465625 10.999219 \nz\n\" style=\"fill: #ffffff\"/>\n   </g>\n   <g id=\"matplotlib.axis_1\">\n    <g id=\"xtick_1\">\n     <g id=\"line2d_1\">\n      <defs>\n       <path id=\"mbabd7b1941\" d=\"M 0 0 \nL 0 3.5 \n\" style=\"stroke: #000000; stroke-width: 0.8\"/>\n      </defs>\n      <g>\n       <use xlink:href=\"#mbabd7b1941\" x=\"77.047443\" y=\"500.239219\" style=\"stroke: #000000; stroke-width: 0.8\"/>\n      </g>\n     </g>\n     <g id=\"text_1\">\n      <!-- 0 -->\n      <g transform=\"translate(73.866193 514.837656)scale(0.1 -0.1)\">\n       <defs>\n        <path id=\"DejaVuSans-30\" d=\"M 2034 4250 \nQ 1547 4250 1301 3770 \nQ 1056 3291 1056 2328 \nQ 1056 1369 1301 889 \nQ 1547 409 2034 409 \nQ 2525 409 2770 889 \nQ 3016 1369 3016 2328 \nQ 3016 3291 2770 3770 \nQ 2525 4250 2034 4250 \nz\nM 2034 4750 \nQ 2819 4750 3233 4129 \nQ 3647 3509 3647 2328 \nQ 3647 1150 3233 529 \nQ 2819 -91 2034 -91 \nQ 1250 -91 836 529 \nQ 422 1150 422 2328 \nQ 422 3509 836 4129 \nQ 1250 4750 2034 4750 \nz\n\" transform=\"scale(0.015625)\"/>\n       </defs>\n       <use xlink:href=\"#DejaVuSans-30\"/>\n      </g>\n     </g>\n    </g>\n    <g id=\"xtick_2\">\n     <g id=\"line2d_2\">\n      <g>\n       <use xlink:href=\"#mbabd7b1941\" x=\"183.841702\" y=\"500.239219\" style=\"stroke: #000000; stroke-width: 0.8\"/>\n      </g>\n     </g>\n     <g id=\"text_2\">\n      <!-- 5 -->\n      <g transform=\"translate(180.660452 514.837656)scale(0.1 -0.1)\">\n       <defs>\n        <path id=\"DejaVuSans-35\" d=\"M 691 4666 \nL 3169 4666 \nL 3169 4134 \nL 1269 4134 \nL 1269 2991 \nQ 1406 3038 1543 3061 \nQ 1681 3084 1819 3084 \nQ 2600 3084 3056 2656 \nQ 3513 2228 3513 1497 \nQ 3513 744 3044 326 \nQ 2575 -91 1722 -91 \nQ 1428 -91 1123 -41 \nQ 819 9 494 109 \nL 494 744 \nQ 775 591 1075 516 \nQ 1375 441 1709 441 \nQ 2250 441 2565 725 \nQ 2881 1009 2881 1497 \nQ 2881 1984 2565 2268 \nQ 2250 2553 1709 2553 \nQ 1456 2553 1204 2497 \nQ 953 2441 691 2322 \nL 691 4666 \nz\n\" transform=\"scale(0.015625)\"/>\n       </defs>\n       <use xlink:href=\"#DejaVuSans-35\"/>\n      </g>\n     </g>\n    </g>\n    <g id=\"xtick_3\">\n     <g id=\"line2d_3\">\n      <g>\n       <use xlink:href=\"#mbabd7b1941\" x=\"290.63596\" y=\"500.239219\" style=\"stroke: #000000; stroke-width: 0.8\"/>\n      </g>\n     </g>\n     <g id=\"text_3\">\n      <!-- 10 -->\n      <g transform=\"translate(284.27346 514.837656)scale(0.1 -0.1)\">\n       <defs>\n        <path id=\"DejaVuSans-31\" d=\"M 794 531 \nL 1825 531 \nL 1825 4091 \nL 703 3866 \nL 703 4441 \nL 1819 4666 \nL 2450 4666 \nL 2450 531 \nL 3481 531 \nL 3481 0 \nL 794 0 \nL 794 531 \nz\n\" transform=\"scale(0.015625)\"/>\n       </defs>\n       <use xlink:href=\"#DejaVuSans-31\"/>\n       <use xlink:href=\"#DejaVuSans-30\" x=\"63.623047\"/>\n      </g>\n     </g>\n    </g>\n    <g id=\"xtick_4\">\n     <g id=\"line2d_4\">\n      <g>\n       <use xlink:href=\"#mbabd7b1941\" x=\"397.430218\" y=\"500.239219\" style=\"stroke: #000000; stroke-width: 0.8\"/>\n      </g>\n     </g>\n     <g id=\"text_4\">\n      <!-- 15 -->\n      <g transform=\"translate(391.067718 514.837656)scale(0.1 -0.1)\">\n       <use xlink:href=\"#DejaVuSans-31\"/>\n       <use xlink:href=\"#DejaVuSans-35\" x=\"63.623047\"/>\n      </g>\n     </g>\n    </g>\n    <g id=\"xtick_5\">\n     <g id=\"line2d_5\">\n      <g>\n       <use xlink:href=\"#mbabd7b1941\" x=\"504.224477\" y=\"500.239219\" style=\"stroke: #000000; stroke-width: 0.8\"/>\n      </g>\n     </g>\n     <g id=\"text_5\">\n      <!-- 20 -->\n      <g transform=\"translate(497.861977 514.837656)scale(0.1 -0.1)\">\n       <defs>\n        <path id=\"DejaVuSans-32\" d=\"M 1228 531 \nL 3431 531 \nL 3431 0 \nL 469 0 \nL 469 531 \nQ 828 903 1448 1529 \nQ 2069 2156 2228 2338 \nQ 2531 2678 2651 2914 \nQ 2772 3150 2772 3378 \nQ 2772 3750 2511 3984 \nQ 2250 4219 1831 4219 \nQ 1534 4219 1204 4116 \nQ 875 4013 500 3803 \nL 500 4441 \nQ 881 4594 1212 4672 \nQ 1544 4750 1819 4750 \nQ 2544 4750 2975 4387 \nQ 3406 4025 3406 3419 \nQ 3406 3131 3298 2873 \nQ 3191 2616 2906 2266 \nQ 2828 2175 2409 1742 \nQ 1991 1309 1228 531 \nz\n\" transform=\"scale(0.015625)\"/>\n       </defs>\n       <use xlink:href=\"#DejaVuSans-32\"/>\n       <use xlink:href=\"#DejaVuSans-30\" x=\"63.623047\"/>\n      </g>\n     </g>\n    </g>\n    <g id=\"xtick_6\">\n     <g id=\"line2d_6\">\n      <g>\n       <use xlink:href=\"#mbabd7b1941\" x=\"611.018735\" y=\"500.239219\" style=\"stroke: #000000; stroke-width: 0.8\"/>\n      </g>\n     </g>\n     <g id=\"text_6\">\n      <!-- 25 -->\n      <g transform=\"translate(604.656235 514.837656)scale(0.1 -0.1)\">\n       <use xlink:href=\"#DejaVuSans-32\"/>\n       <use xlink:href=\"#DejaVuSans-35\" x=\"63.623047\"/>\n      </g>\n     </g>\n    </g>\n    <g id=\"xtick_7\">\n     <g id=\"line2d_7\">\n      <g>\n       <use xlink:href=\"#mbabd7b1941\" x=\"717.812993\" y=\"500.239219\" style=\"stroke: #000000; stroke-width: 0.8\"/>\n      </g>\n     </g>\n     <g id=\"text_7\">\n      <!-- 30 -->\n      <g transform=\"translate(711.450493 514.837656)scale(0.1 -0.1)\">\n       <defs>\n        <path id=\"DejaVuSans-33\" d=\"M 2597 2516 \nQ 3050 2419 3304 2112 \nQ 3559 1806 3559 1356 \nQ 3559 666 3084 287 \nQ 2609 -91 1734 -91 \nQ 1441 -91 1130 -33 \nQ 819 25 488 141 \nL 488 750 \nQ 750 597 1062 519 \nQ 1375 441 1716 441 \nQ 2309 441 2620 675 \nQ 2931 909 2931 1356 \nQ 2931 1769 2642 2001 \nQ 2353 2234 1838 2234 \nL 1294 2234 \nL 1294 2753 \nL 1863 2753 \nQ 2328 2753 2575 2939 \nQ 2822 3125 2822 3475 \nQ 2822 3834 2567 4026 \nQ 2313 4219 1838 4219 \nQ 1578 4219 1281 4162 \nQ 984 4106 628 3988 \nL 628 4550 \nQ 988 4650 1302 4700 \nQ 1616 4750 1894 4750 \nQ 2613 4750 3031 4423 \nQ 3450 4097 3450 3541 \nQ 3450 3153 3228 2886 \nQ 3006 2619 2597 2516 \nz\n\" transform=\"scale(0.015625)\"/>\n       </defs>\n       <use xlink:href=\"#DejaVuSans-33\"/>\n       <use xlink:href=\"#DejaVuSans-30\" x=\"63.623047\"/>\n      </g>\n     </g>\n    </g>\n    <g id=\"xtick_8\">\n     <g id=\"line2d_8\">\n      <g>\n       <use xlink:href=\"#mbabd7b1941\" x=\"824.607252\" y=\"500.239219\" style=\"stroke: #000000; stroke-width: 0.8\"/>\n      </g>\n     </g>\n     <g id=\"text_8\">\n      <!-- 35 -->\n      <g transform=\"translate(818.244752 514.837656)scale(0.1 -0.1)\">\n       <use xlink:href=\"#DejaVuSans-33\"/>\n       <use xlink:href=\"#DejaVuSans-35\" x=\"63.623047\"/>\n      </g>\n     </g>\n    </g>\n   </g>\n   <g id=\"matplotlib.axis_2\">\n    <g id=\"ytick_1\">\n     <g id=\"line2d_9\">\n      <defs>\n       <path id=\"md4a2f73928\" d=\"M 0 0 \nL -3.5 0 \n\" style=\"stroke: #000000; stroke-width: 0.8\"/>\n      </defs>\n      <g>\n       <use xlink:href=\"#md4a2f73928\" x=\"36.465625\" y=\"411.286491\" style=\"stroke: #000000; stroke-width: 0.8\"/>\n      </g>\n     </g>\n     <g id=\"text_9\">\n      <!-- 0.94 -->\n      <g transform=\"translate(7.2 415.08571)scale(0.1 -0.1)\">\n       <defs>\n        <path id=\"DejaVuSans-2e\" d=\"M 684 794 \nL 1344 794 \nL 1344 0 \nL 684 0 \nL 684 794 \nz\n\" transform=\"scale(0.015625)\"/>\n        <path id=\"DejaVuSans-39\" d=\"M 703 97 \nL 703 672 \nQ 941 559 1184 500 \nQ 1428 441 1663 441 \nQ 2288 441 2617 861 \nQ 2947 1281 2994 2138 \nQ 2813 1869 2534 1725 \nQ 2256 1581 1919 1581 \nQ 1219 1581 811 2004 \nQ 403 2428 403 3163 \nQ 403 3881 828 4315 \nQ 1253 4750 1959 4750 \nQ 2769 4750 3195 4129 \nQ 3622 3509 3622 2328 \nQ 3622 1225 3098 567 \nQ 2575 -91 1691 -91 \nQ 1453 -91 1209 -44 \nQ 966 3 703 97 \nz\nM 1959 2075 \nQ 2384 2075 2632 2365 \nQ 2881 2656 2881 3163 \nQ 2881 3666 2632 3958 \nQ 2384 4250 1959 4250 \nQ 1534 4250 1286 3958 \nQ 1038 3666 1038 3163 \nQ 1038 2656 1286 2365 \nQ 1534 2075 1959 2075 \nz\n\" transform=\"scale(0.015625)\"/>\n        <path id=\"DejaVuSans-34\" d=\"M 2419 4116 \nL 825 1625 \nL 2419 1625 \nL 2419 4116 \nz\nM 2253 4666 \nL 3047 4666 \nL 3047 1625 \nL 3713 1625 \nL 3713 1100 \nL 3047 1100 \nL 3047 0 \nL 2419 0 \nL 2419 1100 \nL 313 1100 \nL 313 1709 \nL 2253 4666 \nz\n\" transform=\"scale(0.015625)\"/>\n       </defs>\n       <use xlink:href=\"#DejaVuSans-30\"/>\n       <use xlink:href=\"#DejaVuSans-2e\" x=\"63.623047\"/>\n       <use xlink:href=\"#DejaVuSans-39\" x=\"95.410156\"/>\n       <use xlink:href=\"#DejaVuSans-34\" x=\"159.033203\"/>\n      </g>\n     </g>\n    </g>\n    <g id=\"ytick_2\">\n     <g id=\"line2d_10\">\n      <g>\n       <use xlink:href=\"#md4a2f73928\" x=\"36.465625\" y=\"311.214673\" style=\"stroke: #000000; stroke-width: 0.8\"/>\n      </g>\n     </g>\n     <g id=\"text_10\">\n      <!-- 0.95 -->\n      <g transform=\"translate(7.2 315.013892)scale(0.1 -0.1)\">\n       <use xlink:href=\"#DejaVuSans-30\"/>\n       <use xlink:href=\"#DejaVuSans-2e\" x=\"63.623047\"/>\n       <use xlink:href=\"#DejaVuSans-39\" x=\"95.410156\"/>\n       <use xlink:href=\"#DejaVuSans-35\" x=\"159.033203\"/>\n      </g>\n     </g>\n    </g>\n    <g id=\"ytick_3\">\n     <g id=\"line2d_11\">\n      <g>\n       <use xlink:href=\"#md4a2f73928\" x=\"36.465625\" y=\"211.142855\" style=\"stroke: #000000; stroke-width: 0.8\"/>\n      </g>\n     </g>\n     <g id=\"text_11\">\n      <!-- 0.96 -->\n      <g transform=\"translate(7.2 214.942074)scale(0.1 -0.1)\">\n       <defs>\n        <path id=\"DejaVuSans-36\" d=\"M 2113 2584 \nQ 1688 2584 1439 2293 \nQ 1191 2003 1191 1497 \nQ 1191 994 1439 701 \nQ 1688 409 2113 409 \nQ 2538 409 2786 701 \nQ 3034 994 3034 1497 \nQ 3034 2003 2786 2293 \nQ 2538 2584 2113 2584 \nz\nM 3366 4563 \nL 3366 3988 \nQ 3128 4100 2886 4159 \nQ 2644 4219 2406 4219 \nQ 1781 4219 1451 3797 \nQ 1122 3375 1075 2522 \nQ 1259 2794 1537 2939 \nQ 1816 3084 2150 3084 \nQ 2853 3084 3261 2657 \nQ 3669 2231 3669 1497 \nQ 3669 778 3244 343 \nQ 2819 -91 2113 -91 \nQ 1303 -91 875 529 \nQ 447 1150 447 2328 \nQ 447 3434 972 4092 \nQ 1497 4750 2381 4750 \nQ 2619 4750 2861 4703 \nQ 3103 4656 3366 4563 \nz\n\" transform=\"scale(0.015625)\"/>\n       </defs>\n       <use xlink:href=\"#DejaVuSans-30\"/>\n       <use xlink:href=\"#DejaVuSans-2e\" x=\"63.623047\"/>\n       <use xlink:href=\"#DejaVuSans-39\" x=\"95.410156\"/>\n       <use xlink:href=\"#DejaVuSans-36\" x=\"159.033203\"/>\n      </g>\n     </g>\n    </g>\n    <g id=\"ytick_4\">\n     <g id=\"line2d_12\">\n      <g>\n       <use xlink:href=\"#md4a2f73928\" x=\"36.465625\" y=\"111.071037\" style=\"stroke: #000000; stroke-width: 0.8\"/>\n      </g>\n     </g>\n     <g id=\"text_12\">\n      <!-- 0.97 -->\n      <g transform=\"translate(7.2 114.870256)scale(0.1 -0.1)\">\n       <defs>\n        <path id=\"DejaVuSans-37\" d=\"M 525 4666 \nL 3525 4666 \nL 3525 4397 \nL 1831 0 \nL 1172 0 \nL 2766 4134 \nL 525 4134 \nL 525 4666 \nz\n\" transform=\"scale(0.015625)\"/>\n       </defs>\n       <use xlink:href=\"#DejaVuSans-30\"/>\n       <use xlink:href=\"#DejaVuSans-2e\" x=\"63.623047\"/>\n       <use xlink:href=\"#DejaVuSans-39\" x=\"95.410156\"/>\n       <use xlink:href=\"#DejaVuSans-37\" x=\"159.033203\"/>\n      </g>\n     </g>\n    </g>\n    <g id=\"ytick_5\">\n     <g id=\"line2d_13\">\n      <g>\n       <use xlink:href=\"#md4a2f73928\" x=\"36.465625\" y=\"10.999219\" style=\"stroke: #000000; stroke-width: 0.8\"/>\n      </g>\n     </g>\n     <g id=\"text_13\">\n      <!-- 0.98 -->\n      <g transform=\"translate(7.2 14.798438)scale(0.1 -0.1)\">\n       <defs>\n        <path id=\"DejaVuSans-38\" d=\"M 2034 2216 \nQ 1584 2216 1326 1975 \nQ 1069 1734 1069 1313 \nQ 1069 891 1326 650 \nQ 1584 409 2034 409 \nQ 2484 409 2743 651 \nQ 3003 894 3003 1313 \nQ 3003 1734 2745 1975 \nQ 2488 2216 2034 2216 \nz\nM 1403 2484 \nQ 997 2584 770 2862 \nQ 544 3141 544 3541 \nQ 544 4100 942 4425 \nQ 1341 4750 2034 4750 \nQ 2731 4750 3128 4425 \nQ 3525 4100 3525 3541 \nQ 3525 3141 3298 2862 \nQ 3072 2584 2669 2484 \nQ 3125 2378 3379 2068 \nQ 3634 1759 3634 1313 \nQ 3634 634 3220 271 \nQ 2806 -91 2034 -91 \nQ 1263 -91 848 271 \nQ 434 634 434 1313 \nQ 434 1759 690 2068 \nQ 947 2378 1403 2484 \nz\nM 1172 3481 \nQ 1172 3119 1398 2916 \nQ 1625 2713 2034 2713 \nQ 2441 2713 2670 2916 \nQ 2900 3119 2900 3481 \nQ 2900 3844 2670 4047 \nQ 2441 4250 2034 4250 \nQ 1625 4250 1398 4047 \nQ 1172 3844 1172 3481 \nz\n\" transform=\"scale(0.015625)\"/>\n       </defs>\n       <use xlink:href=\"#DejaVuSans-30\"/>\n       <use xlink:href=\"#DejaVuSans-2e\" x=\"63.623047\"/>\n       <use xlink:href=\"#DejaVuSans-39\" x=\"95.410156\"/>\n       <use xlink:href=\"#DejaVuSans-38\" x=\"159.033203\"/>\n      </g>\n     </g>\n    </g>\n   </g>\n   <g id=\"line2d_14\">\n    <path d=\"M 77.047443 255.619219 \nL 98.406295 478.001037 \nL 119.765147 255.619219 \nL 141.123998 255.619219 \nL 162.48285 255.619219 \nL 183.841702 478.001037 \nL 205.200553 255.619219 \nL 226.559405 255.619219 \nL 247.918257 255.619219 \nL 269.277108 478.001037 \nL 290.63596 33.237401 \nL 311.994812 255.619219 \nL 333.353663 33.237401 \nL 354.712515 255.619219 \nL 376.071367 255.619219 \nL 397.430218 255.619219 \nL 418.78907 255.619219 \nL 440.147922 478.001037 \nL 461.506773 478.001037 \nL 482.865625 478.001037 \nL 504.224477 33.237401 \nL 525.583328 478.001037 \nL 546.94218 255.619219 \nL 568.301032 255.619219 \nL 589.659883 255.619219 \nL 611.018735 255.619219 \nL 632.377587 255.619219 \nL 653.736438 478.001037 \nL 675.09529 255.619219 \nL 696.454142 255.619219 \nL 717.812993 255.619219 \nL 739.171845 478.001037 \nL 760.530697 478.001037 \nL 781.889548 255.619219 \nL 803.2484 33.237401 \nL 824.607252 255.619219 \nL 845.966103 33.237401 \nL 867.324955 255.619219 \nL 888.683807 255.619219 \n\" clip-path=\"url(#pd1c42795d6)\" style=\"fill: none; stroke: #1f77b4; stroke-width: 1.5; stroke-linecap: square\"/>\n   </g>\n   <g id=\"patch_3\">\n    <path d=\"M 36.465625 500.239219 \nL 36.465625 10.999219 \n\" style=\"fill: none; stroke: #000000; stroke-width: 0.8; stroke-linejoin: miter; stroke-linecap: square\"/>\n   </g>\n   <g id=\"patch_4\">\n    <path d=\"M 929.265625 500.239219 \nL 929.265625 10.999219 \n\" style=\"fill: none; stroke: #000000; stroke-width: 0.8; stroke-linejoin: miter; stroke-linecap: square\"/>\n   </g>\n   <g id=\"patch_5\">\n    <path d=\"M 36.465625 500.239219 \nL 929.265625 500.239219 \n\" style=\"fill: none; stroke: #000000; stroke-width: 0.8; stroke-linejoin: miter; stroke-linecap: square\"/>\n   </g>\n   <g id=\"patch_6\">\n    <path d=\"M 36.465625 10.999219 \nL 929.265625 10.999219 \n\" style=\"fill: none; stroke: #000000; stroke-width: 0.8; stroke-linejoin: miter; stroke-linecap: square\"/>\n   </g>\n  </g>\n </g>\n <defs>\n  <clipPath id=\"pd1c42795d6\">\n   <rect x=\"36.465625\" y=\"10.999219\" width=\"892.8\" height=\"489.24\"/>\n  </clipPath>\n </defs>\n</svg>\n",
      "text/plain": [
       "<Figure size 1152x648 with 1 Axes>"
      ]
     },
     "metadata": {
      "needs_background": "light"
     },
     "output_type": "display_data"
    }
   ],
   "source": [
    "##todo - start from 1\n",
    "\n",
    "changesInK = []\n",
    "for i in range(1, 40):\n",
    "    predictions = kNearestNeighbors(features_train, features_test, labels_train, i)\n",
    "    changesInK.append(accuracy_score(labels_test, predictions))\n",
    "plot = plt.plot(changesInK)"
   ]
  },
  {
   "cell_type": "markdown",
   "id": "5587b778",
   "metadata": {},
   "source": [
    "## K nearest neighbors - library function"
   ]
  },
  {
   "cell_type": "code",
   "execution_count": 5,
   "id": "c9adcbbe",
   "metadata": {},
   "outputs": [
    {
     "data": {
      "image/svg+xml": "<?xml version=\"1.0\" encoding=\"utf-8\" standalone=\"no\"?>\n<!DOCTYPE svg PUBLIC \"-//W3C//DTD SVG 1.1//EN\"\n  \"http://www.w3.org/Graphics/SVG/1.1/DTD/svg11.dtd\">\n<svg xmlns:xlink=\"http://www.w3.org/1999/xlink\" width=\"936.465625pt\" height=\"524.117344pt\" viewBox=\"0 0 936.465625 524.117344\" xmlns=\"http://www.w3.org/2000/svg\" version=\"1.1\">\n <metadata>\n  <rdf:RDF xmlns:dc=\"http://purl.org/dc/elements/1.1/\" xmlns:cc=\"http://creativecommons.org/ns#\" xmlns:rdf=\"http://www.w3.org/1999/02/22-rdf-syntax-ns#\">\n   <cc:Work>\n    <dc:type rdf:resource=\"http://purl.org/dc/dcmitype/StillImage\"/>\n    <dc:date>2022-01-23T13:07:00.786127</dc:date>\n    <dc:format>image/svg+xml</dc:format>\n    <dc:creator>\n     <cc:Agent>\n      <dc:title>Matplotlib v3.5.0, https://matplotlib.org/</dc:title>\n     </cc:Agent>\n    </dc:creator>\n   </cc:Work>\n  </rdf:RDF>\n </metadata>\n <defs>\n  <style type=\"text/css\">*{stroke-linejoin: round; stroke-linecap: butt}</style>\n </defs>\n <g id=\"figure_1\">\n  <g id=\"patch_1\">\n   <path d=\"M 0 524.117344 \nL 936.465625 524.117344 \nL 936.465625 0 \nL 0 0 \nL 0 524.117344 \nz\n\" style=\"fill: none\"/>\n  </g>\n  <g id=\"axes_1\">\n   <g id=\"patch_2\">\n    <path d=\"M 36.465625 500.239219 \nL 929.265625 500.239219 \nL 929.265625 10.999219 \nL 36.465625 10.999219 \nz\n\" style=\"fill: #ffffff\"/>\n   </g>\n   <g id=\"matplotlib.axis_1\">\n    <g id=\"xtick_1\">\n     <g id=\"line2d_1\">\n      <defs>\n       <path id=\"m8b7ed4e7c6\" d=\"M 0 0 \nL 0 3.5 \n\" style=\"stroke: #000000; stroke-width: 0.8\"/>\n      </defs>\n      <g>\n       <use xlink:href=\"#m8b7ed4e7c6\" x=\"77.047443\" y=\"500.239219\" style=\"stroke: #000000; stroke-width: 0.8\"/>\n      </g>\n     </g>\n     <g id=\"text_1\">\n      <!-- 0 -->\n      <g transform=\"translate(73.866193 514.837656)scale(0.1 -0.1)\">\n       <defs>\n        <path id=\"DejaVuSans-30\" d=\"M 2034 4250 \nQ 1547 4250 1301 3770 \nQ 1056 3291 1056 2328 \nQ 1056 1369 1301 889 \nQ 1547 409 2034 409 \nQ 2525 409 2770 889 \nQ 3016 1369 3016 2328 \nQ 3016 3291 2770 3770 \nQ 2525 4250 2034 4250 \nz\nM 2034 4750 \nQ 2819 4750 3233 4129 \nQ 3647 3509 3647 2328 \nQ 3647 1150 3233 529 \nQ 2819 -91 2034 -91 \nQ 1250 -91 836 529 \nQ 422 1150 422 2328 \nQ 422 3509 836 4129 \nQ 1250 4750 2034 4750 \nz\n\" transform=\"scale(0.015625)\"/>\n       </defs>\n       <use xlink:href=\"#DejaVuSans-30\"/>\n      </g>\n     </g>\n    </g>\n    <g id=\"xtick_2\">\n     <g id=\"line2d_2\">\n      <g>\n       <use xlink:href=\"#m8b7ed4e7c6\" x=\"183.841702\" y=\"500.239219\" style=\"stroke: #000000; stroke-width: 0.8\"/>\n      </g>\n     </g>\n     <g id=\"text_2\">\n      <!-- 5 -->\n      <g transform=\"translate(180.660452 514.837656)scale(0.1 -0.1)\">\n       <defs>\n        <path id=\"DejaVuSans-35\" d=\"M 691 4666 \nL 3169 4666 \nL 3169 4134 \nL 1269 4134 \nL 1269 2991 \nQ 1406 3038 1543 3061 \nQ 1681 3084 1819 3084 \nQ 2600 3084 3056 2656 \nQ 3513 2228 3513 1497 \nQ 3513 744 3044 326 \nQ 2575 -91 1722 -91 \nQ 1428 -91 1123 -41 \nQ 819 9 494 109 \nL 494 744 \nQ 775 591 1075 516 \nQ 1375 441 1709 441 \nQ 2250 441 2565 725 \nQ 2881 1009 2881 1497 \nQ 2881 1984 2565 2268 \nQ 2250 2553 1709 2553 \nQ 1456 2553 1204 2497 \nQ 953 2441 691 2322 \nL 691 4666 \nz\n\" transform=\"scale(0.015625)\"/>\n       </defs>\n       <use xlink:href=\"#DejaVuSans-35\"/>\n      </g>\n     </g>\n    </g>\n    <g id=\"xtick_3\">\n     <g id=\"line2d_3\">\n      <g>\n       <use xlink:href=\"#m8b7ed4e7c6\" x=\"290.63596\" y=\"500.239219\" style=\"stroke: #000000; stroke-width: 0.8\"/>\n      </g>\n     </g>\n     <g id=\"text_3\">\n      <!-- 10 -->\n      <g transform=\"translate(284.27346 514.837656)scale(0.1 -0.1)\">\n       <defs>\n        <path id=\"DejaVuSans-31\" d=\"M 794 531 \nL 1825 531 \nL 1825 4091 \nL 703 3866 \nL 703 4441 \nL 1819 4666 \nL 2450 4666 \nL 2450 531 \nL 3481 531 \nL 3481 0 \nL 794 0 \nL 794 531 \nz\n\" transform=\"scale(0.015625)\"/>\n       </defs>\n       <use xlink:href=\"#DejaVuSans-31\"/>\n       <use xlink:href=\"#DejaVuSans-30\" x=\"63.623047\"/>\n      </g>\n     </g>\n    </g>\n    <g id=\"xtick_4\">\n     <g id=\"line2d_4\">\n      <g>\n       <use xlink:href=\"#m8b7ed4e7c6\" x=\"397.430218\" y=\"500.239219\" style=\"stroke: #000000; stroke-width: 0.8\"/>\n      </g>\n     </g>\n     <g id=\"text_4\">\n      <!-- 15 -->\n      <g transform=\"translate(391.067718 514.837656)scale(0.1 -0.1)\">\n       <use xlink:href=\"#DejaVuSans-31\"/>\n       <use xlink:href=\"#DejaVuSans-35\" x=\"63.623047\"/>\n      </g>\n     </g>\n    </g>\n    <g id=\"xtick_5\">\n     <g id=\"line2d_5\">\n      <g>\n       <use xlink:href=\"#m8b7ed4e7c6\" x=\"504.224477\" y=\"500.239219\" style=\"stroke: #000000; stroke-width: 0.8\"/>\n      </g>\n     </g>\n     <g id=\"text_5\">\n      <!-- 20 -->\n      <g transform=\"translate(497.861977 514.837656)scale(0.1 -0.1)\">\n       <defs>\n        <path id=\"DejaVuSans-32\" d=\"M 1228 531 \nL 3431 531 \nL 3431 0 \nL 469 0 \nL 469 531 \nQ 828 903 1448 1529 \nQ 2069 2156 2228 2338 \nQ 2531 2678 2651 2914 \nQ 2772 3150 2772 3378 \nQ 2772 3750 2511 3984 \nQ 2250 4219 1831 4219 \nQ 1534 4219 1204 4116 \nQ 875 4013 500 3803 \nL 500 4441 \nQ 881 4594 1212 4672 \nQ 1544 4750 1819 4750 \nQ 2544 4750 2975 4387 \nQ 3406 4025 3406 3419 \nQ 3406 3131 3298 2873 \nQ 3191 2616 2906 2266 \nQ 2828 2175 2409 1742 \nQ 1991 1309 1228 531 \nz\n\" transform=\"scale(0.015625)\"/>\n       </defs>\n       <use xlink:href=\"#DejaVuSans-32\"/>\n       <use xlink:href=\"#DejaVuSans-30\" x=\"63.623047\"/>\n      </g>\n     </g>\n    </g>\n    <g id=\"xtick_6\">\n     <g id=\"line2d_6\">\n      <g>\n       <use xlink:href=\"#m8b7ed4e7c6\" x=\"611.018735\" y=\"500.239219\" style=\"stroke: #000000; stroke-width: 0.8\"/>\n      </g>\n     </g>\n     <g id=\"text_6\">\n      <!-- 25 -->\n      <g transform=\"translate(604.656235 514.837656)scale(0.1 -0.1)\">\n       <use xlink:href=\"#DejaVuSans-32\"/>\n       <use xlink:href=\"#DejaVuSans-35\" x=\"63.623047\"/>\n      </g>\n     </g>\n    </g>\n    <g id=\"xtick_7\">\n     <g id=\"line2d_7\">\n      <g>\n       <use xlink:href=\"#m8b7ed4e7c6\" x=\"717.812993\" y=\"500.239219\" style=\"stroke: #000000; stroke-width: 0.8\"/>\n      </g>\n     </g>\n     <g id=\"text_7\">\n      <!-- 30 -->\n      <g transform=\"translate(711.450493 514.837656)scale(0.1 -0.1)\">\n       <defs>\n        <path id=\"DejaVuSans-33\" d=\"M 2597 2516 \nQ 3050 2419 3304 2112 \nQ 3559 1806 3559 1356 \nQ 3559 666 3084 287 \nQ 2609 -91 1734 -91 \nQ 1441 -91 1130 -33 \nQ 819 25 488 141 \nL 488 750 \nQ 750 597 1062 519 \nQ 1375 441 1716 441 \nQ 2309 441 2620 675 \nQ 2931 909 2931 1356 \nQ 2931 1769 2642 2001 \nQ 2353 2234 1838 2234 \nL 1294 2234 \nL 1294 2753 \nL 1863 2753 \nQ 2328 2753 2575 2939 \nQ 2822 3125 2822 3475 \nQ 2822 3834 2567 4026 \nQ 2313 4219 1838 4219 \nQ 1578 4219 1281 4162 \nQ 984 4106 628 3988 \nL 628 4550 \nQ 988 4650 1302 4700 \nQ 1616 4750 1894 4750 \nQ 2613 4750 3031 4423 \nQ 3450 4097 3450 3541 \nQ 3450 3153 3228 2886 \nQ 3006 2619 2597 2516 \nz\n\" transform=\"scale(0.015625)\"/>\n       </defs>\n       <use xlink:href=\"#DejaVuSans-33\"/>\n       <use xlink:href=\"#DejaVuSans-30\" x=\"63.623047\"/>\n      </g>\n     </g>\n    </g>\n    <g id=\"xtick_8\">\n     <g id=\"line2d_8\">\n      <g>\n       <use xlink:href=\"#m8b7ed4e7c6\" x=\"824.607252\" y=\"500.239219\" style=\"stroke: #000000; stroke-width: 0.8\"/>\n      </g>\n     </g>\n     <g id=\"text_8\">\n      <!-- 35 -->\n      <g transform=\"translate(818.244752 514.837656)scale(0.1 -0.1)\">\n       <use xlink:href=\"#DejaVuSans-33\"/>\n       <use xlink:href=\"#DejaVuSans-35\" x=\"63.623047\"/>\n      </g>\n     </g>\n    </g>\n   </g>\n   <g id=\"matplotlib.axis_2\">\n    <g id=\"ytick_1\">\n     <g id=\"line2d_9\">\n      <defs>\n       <path id=\"mf7256079de\" d=\"M 0 0 \nL -3.5 0 \n\" style=\"stroke: #000000; stroke-width: 0.8\"/>\n      </defs>\n      <g>\n       <use xlink:href=\"#mf7256079de\" x=\"36.465625\" y=\"411.286491\" style=\"stroke: #000000; stroke-width: 0.8\"/>\n      </g>\n     </g>\n     <g id=\"text_9\">\n      <!-- 0.94 -->\n      <g transform=\"translate(7.2 415.08571)scale(0.1 -0.1)\">\n       <defs>\n        <path id=\"DejaVuSans-2e\" d=\"M 684 794 \nL 1344 794 \nL 1344 0 \nL 684 0 \nL 684 794 \nz\n\" transform=\"scale(0.015625)\"/>\n        <path id=\"DejaVuSans-39\" d=\"M 703 97 \nL 703 672 \nQ 941 559 1184 500 \nQ 1428 441 1663 441 \nQ 2288 441 2617 861 \nQ 2947 1281 2994 2138 \nQ 2813 1869 2534 1725 \nQ 2256 1581 1919 1581 \nQ 1219 1581 811 2004 \nQ 403 2428 403 3163 \nQ 403 3881 828 4315 \nQ 1253 4750 1959 4750 \nQ 2769 4750 3195 4129 \nQ 3622 3509 3622 2328 \nQ 3622 1225 3098 567 \nQ 2575 -91 1691 -91 \nQ 1453 -91 1209 -44 \nQ 966 3 703 97 \nz\nM 1959 2075 \nQ 2384 2075 2632 2365 \nQ 2881 2656 2881 3163 \nQ 2881 3666 2632 3958 \nQ 2384 4250 1959 4250 \nQ 1534 4250 1286 3958 \nQ 1038 3666 1038 3163 \nQ 1038 2656 1286 2365 \nQ 1534 2075 1959 2075 \nz\n\" transform=\"scale(0.015625)\"/>\n        <path id=\"DejaVuSans-34\" d=\"M 2419 4116 \nL 825 1625 \nL 2419 1625 \nL 2419 4116 \nz\nM 2253 4666 \nL 3047 4666 \nL 3047 1625 \nL 3713 1625 \nL 3713 1100 \nL 3047 1100 \nL 3047 0 \nL 2419 0 \nL 2419 1100 \nL 313 1100 \nL 313 1709 \nL 2253 4666 \nz\n\" transform=\"scale(0.015625)\"/>\n       </defs>\n       <use xlink:href=\"#DejaVuSans-30\"/>\n       <use xlink:href=\"#DejaVuSans-2e\" x=\"63.623047\"/>\n       <use xlink:href=\"#DejaVuSans-39\" x=\"95.410156\"/>\n       <use xlink:href=\"#DejaVuSans-34\" x=\"159.033203\"/>\n      </g>\n     </g>\n    </g>\n    <g id=\"ytick_2\">\n     <g id=\"line2d_10\">\n      <g>\n       <use xlink:href=\"#mf7256079de\" x=\"36.465625\" y=\"311.214673\" style=\"stroke: #000000; stroke-width: 0.8\"/>\n      </g>\n     </g>\n     <g id=\"text_10\">\n      <!-- 0.95 -->\n      <g transform=\"translate(7.2 315.013892)scale(0.1 -0.1)\">\n       <use xlink:href=\"#DejaVuSans-30\"/>\n       <use xlink:href=\"#DejaVuSans-2e\" x=\"63.623047\"/>\n       <use xlink:href=\"#DejaVuSans-39\" x=\"95.410156\"/>\n       <use xlink:href=\"#DejaVuSans-35\" x=\"159.033203\"/>\n      </g>\n     </g>\n    </g>\n    <g id=\"ytick_3\">\n     <g id=\"line2d_11\">\n      <g>\n       <use xlink:href=\"#mf7256079de\" x=\"36.465625\" y=\"211.142855\" style=\"stroke: #000000; stroke-width: 0.8\"/>\n      </g>\n     </g>\n     <g id=\"text_11\">\n      <!-- 0.96 -->\n      <g transform=\"translate(7.2 214.942074)scale(0.1 -0.1)\">\n       <defs>\n        <path id=\"DejaVuSans-36\" d=\"M 2113 2584 \nQ 1688 2584 1439 2293 \nQ 1191 2003 1191 1497 \nQ 1191 994 1439 701 \nQ 1688 409 2113 409 \nQ 2538 409 2786 701 \nQ 3034 994 3034 1497 \nQ 3034 2003 2786 2293 \nQ 2538 2584 2113 2584 \nz\nM 3366 4563 \nL 3366 3988 \nQ 3128 4100 2886 4159 \nQ 2644 4219 2406 4219 \nQ 1781 4219 1451 3797 \nQ 1122 3375 1075 2522 \nQ 1259 2794 1537 2939 \nQ 1816 3084 2150 3084 \nQ 2853 3084 3261 2657 \nQ 3669 2231 3669 1497 \nQ 3669 778 3244 343 \nQ 2819 -91 2113 -91 \nQ 1303 -91 875 529 \nQ 447 1150 447 2328 \nQ 447 3434 972 4092 \nQ 1497 4750 2381 4750 \nQ 2619 4750 2861 4703 \nQ 3103 4656 3366 4563 \nz\n\" transform=\"scale(0.015625)\"/>\n       </defs>\n       <use xlink:href=\"#DejaVuSans-30\"/>\n       <use xlink:href=\"#DejaVuSans-2e\" x=\"63.623047\"/>\n       <use xlink:href=\"#DejaVuSans-39\" x=\"95.410156\"/>\n       <use xlink:href=\"#DejaVuSans-36\" x=\"159.033203\"/>\n      </g>\n     </g>\n    </g>\n    <g id=\"ytick_4\">\n     <g id=\"line2d_12\">\n      <g>\n       <use xlink:href=\"#mf7256079de\" x=\"36.465625\" y=\"111.071037\" style=\"stroke: #000000; stroke-width: 0.8\"/>\n      </g>\n     </g>\n     <g id=\"text_12\">\n      <!-- 0.97 -->\n      <g transform=\"translate(7.2 114.870256)scale(0.1 -0.1)\">\n       <defs>\n        <path id=\"DejaVuSans-37\" d=\"M 525 4666 \nL 3525 4666 \nL 3525 4397 \nL 1831 0 \nL 1172 0 \nL 2766 4134 \nL 525 4134 \nL 525 4666 \nz\n\" transform=\"scale(0.015625)\"/>\n       </defs>\n       <use xlink:href=\"#DejaVuSans-30\"/>\n       <use xlink:href=\"#DejaVuSans-2e\" x=\"63.623047\"/>\n       <use xlink:href=\"#DejaVuSans-39\" x=\"95.410156\"/>\n       <use xlink:href=\"#DejaVuSans-37\" x=\"159.033203\"/>\n      </g>\n     </g>\n    </g>\n    <g id=\"ytick_5\">\n     <g id=\"line2d_13\">\n      <g>\n       <use xlink:href=\"#mf7256079de\" x=\"36.465625\" y=\"10.999219\" style=\"stroke: #000000; stroke-width: 0.8\"/>\n      </g>\n     </g>\n     <g id=\"text_13\">\n      <!-- 0.98 -->\n      <g transform=\"translate(7.2 14.798438)scale(0.1 -0.1)\">\n       <defs>\n        <path id=\"DejaVuSans-38\" d=\"M 2034 2216 \nQ 1584 2216 1326 1975 \nQ 1069 1734 1069 1313 \nQ 1069 891 1326 650 \nQ 1584 409 2034 409 \nQ 2484 409 2743 651 \nQ 3003 894 3003 1313 \nQ 3003 1734 2745 1975 \nQ 2488 2216 2034 2216 \nz\nM 1403 2484 \nQ 997 2584 770 2862 \nQ 544 3141 544 3541 \nQ 544 4100 942 4425 \nQ 1341 4750 2034 4750 \nQ 2731 4750 3128 4425 \nQ 3525 4100 3525 3541 \nQ 3525 3141 3298 2862 \nQ 3072 2584 2669 2484 \nQ 3125 2378 3379 2068 \nQ 3634 1759 3634 1313 \nQ 3634 634 3220 271 \nQ 2806 -91 2034 -91 \nQ 1263 -91 848 271 \nQ 434 634 434 1313 \nQ 434 1759 690 2068 \nQ 947 2378 1403 2484 \nz\nM 1172 3481 \nQ 1172 3119 1398 2916 \nQ 1625 2713 2034 2713 \nQ 2441 2713 2670 2916 \nQ 2900 3119 2900 3481 \nQ 2900 3844 2670 4047 \nQ 2441 4250 2034 4250 \nQ 1625 4250 1398 4047 \nQ 1172 3844 1172 3481 \nz\n\" transform=\"scale(0.015625)\"/>\n       </defs>\n       <use xlink:href=\"#DejaVuSans-30\"/>\n       <use xlink:href=\"#DejaVuSans-2e\" x=\"63.623047\"/>\n       <use xlink:href=\"#DejaVuSans-39\" x=\"95.410156\"/>\n       <use xlink:href=\"#DejaVuSans-38\" x=\"159.033203\"/>\n      </g>\n     </g>\n    </g>\n   </g>\n   <g id=\"line2d_14\">\n    <path d=\"M 77.047443 255.619219 \nL 98.406295 478.001037 \nL 119.765147 255.619219 \nL 141.123998 255.619219 \nL 162.48285 255.619219 \nL 183.841702 478.001037 \nL 205.200553 255.619219 \nL 226.559405 255.619219 \nL 247.918257 255.619219 \nL 269.277108 478.001037 \nL 290.63596 33.237401 \nL 311.994812 255.619219 \nL 333.353663 33.237401 \nL 354.712515 255.619219 \nL 376.071367 255.619219 \nL 397.430218 255.619219 \nL 418.78907 255.619219 \nL 440.147922 478.001037 \nL 461.506773 478.001037 \nL 482.865625 478.001037 \nL 504.224477 33.237401 \nL 525.583328 478.001037 \nL 546.94218 255.619219 \nL 568.301032 255.619219 \nL 589.659883 255.619219 \nL 611.018735 255.619219 \nL 632.377587 255.619219 \nL 653.736438 478.001037 \nL 675.09529 255.619219 \nL 696.454142 255.619219 \nL 717.812993 255.619219 \nL 739.171845 478.001037 \nL 760.530697 478.001037 \nL 781.889548 255.619219 \nL 803.2484 33.237401 \nL 824.607252 255.619219 \nL 845.966103 33.237401 \nL 867.324955 255.619219 \nL 888.683807 255.619219 \n\" clip-path=\"url(#pd19da528e5)\" style=\"fill: none; stroke: #1f77b4; stroke-width: 1.5; stroke-linecap: square\"/>\n   </g>\n   <g id=\"patch_3\">\n    <path d=\"M 36.465625 500.239219 \nL 36.465625 10.999219 \n\" style=\"fill: none; stroke: #000000; stroke-width: 0.8; stroke-linejoin: miter; stroke-linecap: square\"/>\n   </g>\n   <g id=\"patch_4\">\n    <path d=\"M 929.265625 500.239219 \nL 929.265625 10.999219 \n\" style=\"fill: none; stroke: #000000; stroke-width: 0.8; stroke-linejoin: miter; stroke-linecap: square\"/>\n   </g>\n   <g id=\"patch_5\">\n    <path d=\"M 36.465625 500.239219 \nL 929.265625 500.239219 \n\" style=\"fill: none; stroke: #000000; stroke-width: 0.8; stroke-linejoin: miter; stroke-linecap: square\"/>\n   </g>\n   <g id=\"patch_6\">\n    <path d=\"M 36.465625 10.999219 \nL 929.265625 10.999219 \n\" style=\"fill: none; stroke: #000000; stroke-width: 0.8; stroke-linejoin: miter; stroke-linecap: square\"/>\n   </g>\n  </g>\n </g>\n <defs>\n  <clipPath id=\"pd19da528e5\">\n   <rect x=\"36.465625\" y=\"10.999219\" width=\"892.8\" height=\"489.24\"/>\n  </clipPath>\n </defs>\n</svg>\n",
      "text/plain": [
       "<Figure size 1152x648 with 1 Axes>"
      ]
     },
     "metadata": {
      "needs_background": "light"
     },
     "output_type": "display_data"
    }
   ],
   "source": [
    "from sklearn.neighbors import KNeighborsClassifier\n",
    "changesInK = []\n",
    "for i in range (1, 40):\n",
    "    neigh = KNeighborsClassifier(n_neighbors=i).fit(features_train, labels_train)\n",
    "    changesInK.append(accuracy_score(labels_test, neigh.predict(features_test)))\n",
    "plot = plt.plot(changesInK)"
   ]
  },
  {
   "cell_type": "markdown",
   "id": "d21af107",
   "metadata": {},
   "source": [
    "## Decision trees"
   ]
  },
  {
   "cell_type": "markdown",
   "id": "41adf1f0",
   "metadata": {},
   "source": [
    "### Iris database example"
   ]
  },
  {
   "cell_type": "code",
   "execution_count": 6,
   "id": "783f379c",
   "metadata": {},
   "outputs": [
    {
     "data": {
      "text/plain": [
       "DecisionTreeClassifier()"
      ]
     },
     "execution_count": 6,
     "metadata": {},
     "output_type": "execute_result"
    }
   ],
   "source": [
    "from sklearn.datasets import load_iris\n",
    "from sklearn import tree\n",
    "from six import StringIO  \n",
    "import pydot \n",
    "iris = load_iris()\n",
    "clf = tree.DecisionTreeClassifier()\n",
    "clf.fit(iris.data, iris.target)"
   ]
  },
  {
   "cell_type": "code",
   "execution_count": 7,
   "id": "90b60cd6",
   "metadata": {},
   "outputs": [
    {
     "data": {
      "text/plain": [
       "array([[1., 0., 0.]])"
      ]
     },
     "execution_count": 7,
     "metadata": {},
     "output_type": "execute_result"
    }
   ],
   "source": [
    "clf.predict(iris.data[:1, :])\n",
    "clf.predict_proba(iris.data[:1, :])"
   ]
  },
  {
   "cell_type": "code",
   "execution_count": 8,
   "id": "0f3c0833",
   "metadata": {},
   "outputs": [],
   "source": [
    "dot_data = StringIO() \n",
    "tree.export_graphviz(clf, out_file=dot_data) \n",
    "graph = pydot.graph_from_dot_data(dot_data.getvalue()) \n",
    "graph[0].write_pdf(\"iris.pdf\")"
   ]
  },
  {
   "cell_type": "markdown",
   "id": "6798dd55",
   "metadata": {},
   "source": [
    "### Hand-written text classification"
   ]
  },
  {
   "cell_type": "code",
   "execution_count": 9,
   "id": "5ec87271",
   "metadata": {},
   "outputs": [
    {
     "name": "stdout",
     "output_type": "stream",
     "text": [
      "Number of digits:\n",
      "70000\n",
      "Pixels per image:\n",
      "784\n"
     ]
    }
   ],
   "source": [
    "# -*- coding: utf-8 -*-\n",
    "import numpy as np\n",
    "from sklearn.metrics import classification_report, confusion_matrix, f1_score\n",
    "# from sklearn import tree\n",
    "from sklearn.model_selection import train_test_split\n",
    "from scipy.io import loadmat\n",
    " \n",
    "# wczytywanie danych\n",
    "dane = loadmat('./mnist.mat')\n",
    "#Ex.1.Divide the data into parameters X and answer y:\n",
    "\n",
    "X = dane[\"data\"].transpose()\n",
    "y = dane[\"label\"].transpose()\n",
    "\n",
    "# Standardization\n",
    "for i in range(X.shape[0]):\n",
    "    X[i,:] = X[i,:]/np.std(X[i,:])\n",
    " \n",
    "# Convert digit 10 -> 0 (error in the dataset)    \n",
    "y[np.where(y==10)]=0\n",
    " \n",
    "# the height and width of the picture with the number\n",
    "h = 28\n",
    "w = 28\n",
    " \n",
    "# Ex 2. Please display the number of digits and the number of pixels per image\n",
    "print(\"Number of digits:\")\n",
    "print(np.size(y))\n",
    "print(\"Pixels per image:\")\n",
    "print(np.size(X,1))"
   ]
  },
  {
   "cell_type": "code",
   "execution_count": 10,
   "id": "efbe4f20",
   "metadata": {},
   "outputs": [],
   "source": [
    "def plot_mnist(images, titles, h, w, n_row=3, n_col=4):\n",
    "    plt.figure(figsize=(1.8 * n_col, 2.4 * n_row))\n",
    "    plt.subplots_adjust(bottom=0, left=.01, right=.99, top=.90, hspace=.05)\n",
    "    distance = int(np.size(images, 0)/(n_row*n_col))\n",
    "    for i in range(n_row * n_col):\n",
    "        imageNumber = i*distance\n",
    "        plt.subplot(n_row, n_col, i + 1)\n",
    "        plt.imshow(images[imageNumber].reshape((h, w)).T, cmap=plt.cm.gray)\n",
    "        plt.title(titles[imageNumber], size=12)\n",
    "        plt.xticks(())\n",
    "        plt.yticks(())"
   ]
  },
  {
   "cell_type": "code",
   "execution_count": 11,
   "id": "35e340c8",
   "metadata": {},
   "outputs": [
    {
     "name": "stderr",
     "output_type": "stream",
     "text": [
      "/home/researcher/anaconda3/envs/data/lib/python3.9/site-packages/matplotlib/text.py:1223: FutureWarning: elementwise comparison failed; returning scalar instead, but in the future will perform elementwise comparison\n",
      "  if s != self._text:\n"
     ]
    },
    {
     "data": {
      "image/svg+xml": "<?xml version=\"1.0\" encoding=\"utf-8\" standalone=\"no\"?>\n<!DOCTYPE svg PUBLIC \"-//W3C//DTD SVG 1.1//EN\"\n  \"http://www.w3.org/Graphics/SVG/1.1/DTD/svg11.dtd\">\n<svg xmlns:xlink=\"http://www.w3.org/1999/xlink\" width=\"525.932pt\" height=\"459.516638pt\" viewBox=\"0 0 525.932 459.516638\" xmlns=\"http://www.w3.org/2000/svg\" version=\"1.1\">\n <metadata>\n  <rdf:RDF xmlns:dc=\"http://purl.org/dc/elements/1.1/\" xmlns:cc=\"http://creativecommons.org/ns#\" xmlns:rdf=\"http://www.w3.org/1999/02/22-rdf-syntax-ns#\">\n   <cc:Work>\n    <dc:type rdf:resource=\"http://purl.org/dc/dcmitype/StillImage\"/>\n    <dc:date>2022-01-23T13:07:10.655397</dc:date>\n    <dc:format>image/svg+xml</dc:format>\n    <dc:creator>\n     <cc:Agent>\n      <dc:title>Matplotlib v3.5.0, https://matplotlib.org/</dc:title>\n     </cc:Agent>\n    </dc:creator>\n   </cc:Work>\n  </rdf:RDF>\n </metadata>\n <defs>\n  <style type=\"text/css\">*{stroke-linejoin: round; stroke-linecap: butt}</style>\n </defs>\n <g id=\"figure_1\">\n  <g id=\"patch_1\">\n   <path d=\"M 0 459.516638 \nL 525.932 459.516638 \nL 525.932 0 \nL 0 0 \nL 0 459.516638 \nz\n\" style=\"fill: none\"/>\n  </g>\n  <g id=\"axes_1\">\n   <g id=\"patch_2\">\n    <path d=\"M 10.7 132.759864 \nL 121.141739 132.759864 \nL 121.141739 22.318125 \nL 10.7 22.318125 \nz\n\" style=\"fill: #ffffff\"/>\n   </g>\n   <g clip-path=\"url(#p350e4756bf)\">\n    <image xlink:href=\"data:image/png;base64,\niVBORw0KGgoAAAANSUhEUgAAAG8AAABvCAYAAADixZ5gAAACKklEQVR4nO3cTW6DMBBAYah6RTgkHJLuqtQLRlPjn5e8bxdVaome3JHBybosy7UI6Wv0Bej/jAdmPDDjgRkPzHhgxgMzHpjxwIwHZjww44EZD8x4YMYDMx6Y8cCMB2Y8sO/RF5C1bdvt6zvned6+pnHlgRkPzHhg69L53GY0o2p/nlHOvH3fH/vdPbjywIwHZjyw7jPvuub9aARtBrrywIwHZjywx2fecRx/Xkf7spFzpry28tpnn4GuPDDjgRkPrPp5XvR8beZnaNFMi+b36PfiygMzHpjxwKr3edG9ymguRHNk5N4q2geW19Z7BrrywIwHZjyw6pkXzYVao+fKq+i99d7TuvLAjAdmPLDqe5vR//nsOcuZZlypvJbsDHyaKw/MeGDGA2t+bpN0piUrem+t57crD8x4YMYDa/6Z9Oy5kOxZypn2gaXWZ15ceWDGA+v+Ea9S9iNfM20lso/Dnt46uPLAjAdmPLDhX19VzoGar6fqLfs4rJyJ67pW/X1XHpjxwIwHNnzmRXMjup0WHUF/Z648MOOBGQ9s+L3NrMz9xGie1t5brD3q7z7vgxkPzHhguJlXyh4tfBXNvOzR/ejnPs/TL+OBGQ8MP/PuRPuu1s8KW5+3ceWBGQ/MeGBvPfMivWfe01x5YMYDMx7YR888OlcemPHAjAdmPDDjgRkPzHhgxgMzHpjxwIwHZjww44EZD8x4YMYDMx6Y8cCMB2Y8MOOBGQ/MeGA/fpe91YennnoAAAAASUVORK5CYII=\" id=\"image3335eaeb7f\" transform=\"scale(1 -1)translate(0 -111)\" x=\"10.7\" y=\"-21.759864\" width=\"111\" height=\"111\"/>\n   </g>\n   <g id=\"matplotlib.axis_1\"/>\n   <g id=\"matplotlib.axis_2\"/>\n   <g id=\"patch_3\">\n    <path d=\"M 10.7 132.759864 \nL 10.7 22.318125 \n\" style=\"fill: none; stroke: #000000; stroke-width: 0.8; stroke-linejoin: miter; stroke-linecap: square\"/>\n   </g>\n   <g id=\"patch_4\">\n    <path d=\"M 121.141739 132.759864 \nL 121.141739 22.318125 \n\" style=\"fill: none; stroke: #000000; stroke-width: 0.8; stroke-linejoin: miter; stroke-linecap: square\"/>\n   </g>\n   <g id=\"patch_5\">\n    <path d=\"M 10.7 132.759864 \nL 121.141739 132.759864 \n\" style=\"fill: none; stroke: #000000; stroke-width: 0.8; stroke-linejoin: miter; stroke-linecap: square\"/>\n   </g>\n   <g id=\"patch_6\">\n    <path d=\"M 10.7 22.318125 \nL 121.141739 22.318125 \n\" style=\"fill: none; stroke: #000000; stroke-width: 0.8; stroke-linejoin: miter; stroke-linecap: square\"/>\n   </g>\n   <g id=\"text_1\">\n    <!-- [0.] -->\n    <g transform=\"translate(55.51462 16.318125)scale(0.12 -0.12)\">\n     <defs>\n      <path id=\"DejaVuSans-5b\" d=\"M 550 4863 \nL 1875 4863 \nL 1875 4416 \nL 1125 4416 \nL 1125 -397 \nL 1875 -397 \nL 1875 -844 \nL 550 -844 \nL 550 4863 \nz\n\" transform=\"scale(0.015625)\"/>\n      <path id=\"DejaVuSans-30\" d=\"M 2034 4250 \nQ 1547 4250 1301 3770 \nQ 1056 3291 1056 2328 \nQ 1056 1369 1301 889 \nQ 1547 409 2034 409 \nQ 2525 409 2770 889 \nQ 3016 1369 3016 2328 \nQ 3016 3291 2770 3770 \nQ 2525 4250 2034 4250 \nz\nM 2034 4750 \nQ 2819 4750 3233 4129 \nQ 3647 3509 3647 2328 \nQ 3647 1150 3233 529 \nQ 2819 -91 2034 -91 \nQ 1250 -91 836 529 \nQ 422 1150 422 2328 \nQ 422 3509 836 4129 \nQ 1250 4750 2034 4750 \nz\n\" transform=\"scale(0.015625)\"/>\n      <path id=\"DejaVuSans-2e\" d=\"M 684 794 \nL 1344 794 \nL 1344 0 \nL 684 0 \nL 684 794 \nz\n\" transform=\"scale(0.015625)\"/>\n      <path id=\"DejaVuSans-5d\" d=\"M 1947 4863 \nL 1947 -844 \nL 622 -844 \nL 622 -397 \nL 1369 -397 \nL 1369 4416 \nL 622 4416 \nL 622 4863 \nL 1947 4863 \nz\n\" transform=\"scale(0.015625)\"/>\n     </defs>\n     <use xlink:href=\"#DejaVuSans-5b\"/>\n     <use xlink:href=\"#DejaVuSans-30\" x=\"39.013672\"/>\n     <use xlink:href=\"#DejaVuSans-2e\" x=\"102.636719\"/>\n     <use xlink:href=\"#DejaVuSans-5d\" x=\"134.423828\"/>\n    </g>\n   </g>\n  </g>\n  <g id=\"axes_2\">\n   <g id=\"patch_7\">\n    <path d=\"M 143.230087 132.759864 \nL 253.671826 132.759864 \nL 253.671826 22.318125 \nL 143.230087 22.318125 \nz\n\" style=\"fill: #ffffff\"/>\n   </g>\n   <g clip-path=\"url(#pb54544771d)\">\n    <image xlink:href=\"data:image/png;base64,\niVBORw0KGgoAAAANSUhEUgAAAG8AAABvCAYAAADixZ5gAAACSElEQVR4nO3d3U7CQBRF4db4iuUh6UPWO1NPYg/jdH4Wru9KE8DizmFnmFLWZVmORUgfow9Af2d4YIYHZnhghgdmeGCGB2Z4YIYHZnhghgf2OfoAom3bqu6/7/v3z8/n8/K2j8ej6m+N5uSBGR6Y4YGtS+f9vNhpWceVduC587LHireldaCTB2Z4YIYH1rzz4lor651S8f7nx6/ty9k70MkDMzwwwwPr3nlRy14p7VvaOtDJAzM8MMMDu73zZt5DK+28+FzisdeuUWs5eWCGB2Z4YNWdR+uJEsfx818z27rPyQMzPDDDA2t+3ubd+3c9ZevA0c/NyQMzPDDDA2u+zksPYF1r/nxXcd0X9X4uTh6Y4YEZHtjwz+fFHpn5vdB4bK3PSc04eWCGB2Z4YMM7L/bCTB0XZcdm5+llhgdmeGDVnZd1Vu11VWaWrfuy83lqOXlghgdmeGC3r/Pi63q2BzbbeSEkTh6Y4YF1v3xV9jIakU6TyLaI7t7ucvLADA/M8MC6bwnFDst6ovVbTGROHpjhgRke2HSnQUR24O+cPDDDAzM8sOk6L/6erQP/8xaSkwdmeGCGBza88zKll1U83z6uAd+tH508MMMDMzwwXOeVfLQ4u6zInV/vNoKTB2Z4YIYH1v28zbtdvdeZdVrpXmKp1pc1dvLADA/M8MDwnXeltPNKv/a79WcRMk4emOGBGR7YW3feu3PywAwPzPDADA/M8MAMD8zwwAwPzPDADA/M8MAMD8zwwAwPzPDADA/M8MAMD8zwwL4AsgvI32UWAjcAAAAASUVORK5CYII=\" id=\"imagef33c0efa1c\" transform=\"scale(1 -1)translate(0 -111)\" x=\"143.230087\" y=\"-21.759864\" width=\"111\" height=\"111\"/>\n   </g>\n   <g id=\"matplotlib.axis_3\"/>\n   <g id=\"matplotlib.axis_4\"/>\n   <g id=\"patch_8\">\n    <path d=\"M 143.230087 132.759864 \nL 143.230087 22.318125 \n\" style=\"fill: none; stroke: #000000; stroke-width: 0.8; stroke-linejoin: miter; stroke-linecap: square\"/>\n   </g>\n   <g id=\"patch_9\">\n    <path d=\"M 253.671826 132.759864 \nL 253.671826 22.318125 \n\" style=\"fill: none; stroke: #000000; stroke-width: 0.8; stroke-linejoin: miter; stroke-linecap: square\"/>\n   </g>\n   <g id=\"patch_10\">\n    <path d=\"M 143.230087 132.759864 \nL 253.671826 132.759864 \n\" style=\"fill: none; stroke: #000000; stroke-width: 0.8; stroke-linejoin: miter; stroke-linecap: square\"/>\n   </g>\n   <g id=\"patch_11\">\n    <path d=\"M 143.230087 22.318125 \nL 253.671826 22.318125 \n\" style=\"fill: none; stroke: #000000; stroke-width: 0.8; stroke-linejoin: miter; stroke-linecap: square\"/>\n   </g>\n   <g id=\"text_2\">\n    <!-- [0.] -->\n    <g transform=\"translate(188.044707 16.318125)scale(0.12 -0.12)\">\n     <use xlink:href=\"#DejaVuSans-5b\"/>\n     <use xlink:href=\"#DejaVuSans-30\" x=\"39.013672\"/>\n     <use xlink:href=\"#DejaVuSans-2e\" x=\"102.636719\"/>\n     <use xlink:href=\"#DejaVuSans-5d\" x=\"134.423828\"/>\n    </g>\n   </g>\n  </g>\n  <g id=\"axes_3\">\n   <g id=\"patch_12\">\n    <path d=\"M 275.760174 132.759864 \nL 386.201913 132.759864 \nL 386.201913 22.318125 \nL 275.760174 22.318125 \nz\n\" style=\"fill: #ffffff\"/>\n   </g>\n   <g clip-path=\"url(#p6c673550dc)\">\n    <image xlink:href=\"data:image/png;base64,\niVBORw0KGgoAAAANSUhEUgAAAG8AAABvCAYAAADixZ5gAAABlklEQVR4nO3cwW6CQBRAUWj6i/iR8pHtrknZTKiK3HLOjkSTMTeT5yBxnqbpayLp490L4O/ECxMvTLww8cLECxMvTLww8cLECxMvTLww8cLECxMvTLww8cLECxMvTLww8cLECxMvTLww8cLECxMvTLww8cLECxMv7PPdCzjSsiy7Xr+u64tW8hx2Xph4YeKFXXrmjWbg7Xb7dX22GWjnhYkXJl7YPF3of1i2M+5+v+96/3bmbWfi0ey8MPHCxAu71DnvUaOZefQMtPPCxAsTL+zwc97es9Xe3+DO5NX3Ru28MPHCxAvbfc670sx61Pazm3n8EC9MvLDdM+/KM+xs7Lww8cIevj02+jo8etxue/3Ox+1GI2F0TJrn+ZnLGbLzwsQLEy/sUo/+/Td2Xph4YeKFiRcmXph4YeKFiRcmXph4YeKFiRcmXph4YeKFiRcmXph4YeKFiRcmXph4YeKFiRcmXph4YeKFiRcmXph4YeKFiRcmXph4YeKFiRcmXph4YeKFiRcmXph4YeKFiRcmXph4YeKFfQPJnzDb/S3EvgAAAABJRU5ErkJggg==\" id=\"imageeaca2e07c4\" transform=\"scale(1 -1)translate(0 -111)\" x=\"275.760174\" y=\"-21.759864\" width=\"111\" height=\"111\"/>\n   </g>\n   <g id=\"matplotlib.axis_5\"/>\n   <g id=\"matplotlib.axis_6\"/>\n   <g id=\"patch_13\">\n    <path d=\"M 275.760174 132.759864 \nL 275.760174 22.318125 \n\" style=\"fill: none; stroke: #000000; stroke-width: 0.8; stroke-linejoin: miter; stroke-linecap: square\"/>\n   </g>\n   <g id=\"patch_14\">\n    <path d=\"M 386.201913 132.759864 \nL 386.201913 22.318125 \n\" style=\"fill: none; stroke: #000000; stroke-width: 0.8; stroke-linejoin: miter; stroke-linecap: square\"/>\n   </g>\n   <g id=\"patch_15\">\n    <path d=\"M 275.760174 132.759864 \nL 386.201913 132.759864 \n\" style=\"fill: none; stroke: #000000; stroke-width: 0.8; stroke-linejoin: miter; stroke-linecap: square\"/>\n   </g>\n   <g id=\"patch_16\">\n    <path d=\"M 275.760174 22.318125 \nL 386.201913 22.318125 \n\" style=\"fill: none; stroke: #000000; stroke-width: 0.8; stroke-linejoin: miter; stroke-linecap: square\"/>\n   </g>\n   <g id=\"text_3\">\n    <!-- [1.] -->\n    <g transform=\"translate(320.574793 16.318125)scale(0.12 -0.12)\">\n     <defs>\n      <path id=\"DejaVuSans-31\" d=\"M 794 531 \nL 1825 531 \nL 1825 4091 \nL 703 3866 \nL 703 4441 \nL 1819 4666 \nL 2450 4666 \nL 2450 531 \nL 3481 531 \nL 3481 0 \nL 794 0 \nL 794 531 \nz\n\" transform=\"scale(0.015625)\"/>\n     </defs>\n     <use xlink:href=\"#DejaVuSans-5b\"/>\n     <use xlink:href=\"#DejaVuSans-31\" x=\"39.013672\"/>\n     <use xlink:href=\"#DejaVuSans-2e\" x=\"102.636719\"/>\n     <use xlink:href=\"#DejaVuSans-5d\" x=\"134.423828\"/>\n    </g>\n   </g>\n  </g>\n  <g id=\"axes_4\">\n   <g id=\"patch_17\">\n    <path d=\"M 408.290261 132.759864 \nL 518.732 132.759864 \nL 518.732 22.318125 \nL 408.290261 22.318125 \nz\n\" style=\"fill: #ffffff\"/>\n   </g>\n   <g clip-path=\"url(#p60c7a126a5)\">\n    <image xlink:href=\"data:image/png;base64,\niVBORw0KGgoAAAANSUhEUgAAAG8AAABvCAYAAADixZ5gAAAB70lEQVR4nO3cUW6DMBAAURz1inBIOCT5zkrJxrWxmWjeH1Klko6clYFSlmU5FyE9Zp+A/s94YMYDMx6Y8cCMB2Y8MOOBGQ/MeGDGAzMemPHAjAdmPDDjgRkPzHhgxgMzHpjxwIwHZjywv9kn8EvWdX05Po7j0t/nygMzHpjxwMri/yp0c56f/5SllK6/z5UHZjww44G5z2uQzTj3eXrLeGDGA3PmVchm3LZtL8fOPL1lPDDjgU2fefEeWE+1Myeey77vH39+9IyLXHlgxgMzHlj3mRfnRnY8U5xR2bn1vh/XypUHZjww44E1z7y4F8rmRpwzV+6NWudv3MfdjSsPzHhgxgOrfm4zm3Fxht1pbmT34zKzr2VGrjww44EZD6x65o1+Hr9Fdn8unqv38zSM8cB++msz29Zk51r7NTr6s7vywIwHZjyw7pfH7jTz4nxuvXSXfXYfd9fXjAdmPLDqxyDi93qcK/F45gzMHu0b/bqp3lx5YMYDMx5Y8+urSLdRWh+DyHhtU18zHpjxwC5/ZSNpL1W7D5z9WVx5YMYDMx6YrykGc+WBGQ/MeGDGAzMemPHAjAdmPDDjgRkPzHhgxgMzHpjxwIwHZjww44EZD8x4YMYDMx6Y8cCMB2Y8MOOBGQ/MeGDGAzMemPHAjAf2BMDWg9YwTrPTAAAAAElFTkSuQmCC\" id=\"imaged57abc311e\" transform=\"scale(1 -1)translate(0 -111)\" x=\"408.290261\" y=\"-21.759864\" width=\"111\" height=\"111\"/>\n   </g>\n   <g id=\"matplotlib.axis_7\"/>\n   <g id=\"matplotlib.axis_8\"/>\n   <g id=\"patch_18\">\n    <path d=\"M 408.290261 132.759864 \nL 408.290261 22.318125 \n\" style=\"fill: none; stroke: #000000; stroke-width: 0.8; stroke-linejoin: miter; stroke-linecap: square\"/>\n   </g>\n   <g id=\"patch_19\">\n    <path d=\"M 518.732 132.759864 \nL 518.732 22.318125 \n\" style=\"fill: none; stroke: #000000; stroke-width: 0.8; stroke-linejoin: miter; stroke-linecap: square\"/>\n   </g>\n   <g id=\"patch_20\">\n    <path d=\"M 408.290261 132.759864 \nL 518.732 132.759864 \n\" style=\"fill: none; stroke: #000000; stroke-width: 0.8; stroke-linejoin: miter; stroke-linecap: square\"/>\n   </g>\n   <g id=\"patch_21\">\n    <path d=\"M 408.290261 22.318125 \nL 518.732 22.318125 \n\" style=\"fill: none; stroke: #000000; stroke-width: 0.8; stroke-linejoin: miter; stroke-linecap: square\"/>\n   </g>\n   <g id=\"text_4\">\n    <!-- [2.] -->\n    <g transform=\"translate(453.10488 16.318125)scale(0.12 -0.12)\">\n     <defs>\n      <path id=\"DejaVuSans-32\" d=\"M 1228 531 \nL 3431 531 \nL 3431 0 \nL 469 0 \nL 469 531 \nQ 828 903 1448 1529 \nQ 2069 2156 2228 2338 \nQ 2531 2678 2651 2914 \nQ 2772 3150 2772 3378 \nQ 2772 3750 2511 3984 \nQ 2250 4219 1831 4219 \nQ 1534 4219 1204 4116 \nQ 875 4013 500 3803 \nL 500 4441 \nQ 881 4594 1212 4672 \nQ 1544 4750 1819 4750 \nQ 2544 4750 2975 4387 \nQ 3406 4025 3406 3419 \nQ 3406 3131 3298 2873 \nQ 3191 2616 2906 2266 \nQ 2828 2175 2409 1742 \nQ 1991 1309 1228 531 \nz\n\" transform=\"scale(0.015625)\"/>\n     </defs>\n     <use xlink:href=\"#DejaVuSans-5b\"/>\n     <use xlink:href=\"#DejaVuSans-32\" x=\"39.013672\"/>\n     <use xlink:href=\"#DejaVuSans-2e\" x=\"102.636719\"/>\n     <use xlink:href=\"#DejaVuSans-5d\" x=\"134.423828\"/>\n    </g>\n   </g>\n  </g>\n  <g id=\"axes_5\">\n   <g id=\"patch_22\">\n    <path d=\"M 10.7 290.788251 \nL 121.141739 290.788251 \nL 121.141739 180.346512 \nL 10.7 180.346512 \nz\n\" style=\"fill: #ffffff\"/>\n   </g>\n   <g clip-path=\"url(#pf0681685e6)\">\n    <image xlink:href=\"data:image/png;base64,\niVBORw0KGgoAAAANSUhEUgAAAG8AAABvCAYAAADixZ5gAAACJ0lEQVR4nO3cUW7CMBAAUafqFeGQ5JD0D9GtFHe7dtyBeX+oFQGNnJVDYGut3ZuQPla/AP2d8cCMB2Y8MOOBGQ/MeGDGAzMemPHAjAdmPDDjgRkPzHhgxgMzHpjxwIwHZjww44EZD8x4YMYDMx6Y8cCMB/a5+gX8J5fLJfX/+75PeiW/48oDMx6Y8cDeaubFmXa73YY+f5yB1+t16PNHrjww44EZD2xrk7+THudKby8V50bvccb9/v2tVp87OzPjDKzuE115YMYDMx5YeebFGdZ73DvPZ2fi0V6qt6/btu3wWFnZ+V49visPzHhgxgMrX9vM7nWye6veHIl/n3098Ug89uxrqa48MOOBGQ+svM/L7m1+vIDkXidzvDiDevNx9j0p8dqq+7w3Zjww44EN/zwvOwOrc6cyc8++58SZpwfjgRkPbPo9LPE831Odgc8zr3ct0ZmnZYwHNv20Wf1YpHJqyR579uUyT5t6MB6Y8cCmz7woO4dG3p638titOfP0xHhgxgM7/WvNvUtS2dsoKsfO/j1r5ntpzZWHZjww44Et/ymPkV9bzhq9j+sZ/d5ceWDGAzMe2PKZ98ritVNnnh6MB2Y8MGfeQNmfIaly5YEZD8x4YM68gt49MbOv27rywIwHZjyw0+/bfCVn7+siVx6Y8cCMB+bMA3PlgRkPzHhgxgMzHpjxwIwHZjww44EZD8x4YMYDMx6Y8cCMB2Y8MOOBGQ/MeGBfazKp3n4p5mkAAAAASUVORK5CYII=\" id=\"image12781eef93\" transform=\"scale(1 -1)translate(0 -111)\" x=\"10.7\" y=\"-179.788251\" width=\"111\" height=\"111\"/>\n   </g>\n   <g id=\"matplotlib.axis_9\"/>\n   <g id=\"matplotlib.axis_10\"/>\n   <g id=\"patch_23\">\n    <path d=\"M 10.7 290.788251 \nL 10.7 180.346512 \n\" style=\"fill: none; stroke: #000000; stroke-width: 0.8; stroke-linejoin: miter; stroke-linecap: square\"/>\n   </g>\n   <g id=\"patch_24\">\n    <path d=\"M 121.141739 290.788251 \nL 121.141739 180.346512 \n\" style=\"fill: none; stroke: #000000; stroke-width: 0.8; stroke-linejoin: miter; stroke-linecap: square\"/>\n   </g>\n   <g id=\"patch_25\">\n    <path d=\"M 10.7 290.788251 \nL 121.141739 290.788251 \n\" style=\"fill: none; stroke: #000000; stroke-width: 0.8; stroke-linejoin: miter; stroke-linecap: square\"/>\n   </g>\n   <g id=\"patch_26\">\n    <path d=\"M 10.7 180.346512 \nL 121.141739 180.346512 \n\" style=\"fill: none; stroke: #000000; stroke-width: 0.8; stroke-linejoin: miter; stroke-linecap: square\"/>\n   </g>\n   <g id=\"text_5\">\n    <!-- [3.] -->\n    <g transform=\"translate(55.51462 174.346512)scale(0.12 -0.12)\">\n     <defs>\n      <path id=\"DejaVuSans-33\" d=\"M 2597 2516 \nQ 3050 2419 3304 2112 \nQ 3559 1806 3559 1356 \nQ 3559 666 3084 287 \nQ 2609 -91 1734 -91 \nQ 1441 -91 1130 -33 \nQ 819 25 488 141 \nL 488 750 \nQ 750 597 1062 519 \nQ 1375 441 1716 441 \nQ 2309 441 2620 675 \nQ 2931 909 2931 1356 \nQ 2931 1769 2642 2001 \nQ 2353 2234 1838 2234 \nL 1294 2234 \nL 1294 2753 \nL 1863 2753 \nQ 2328 2753 2575 2939 \nQ 2822 3125 2822 3475 \nQ 2822 3834 2567 4026 \nQ 2313 4219 1838 4219 \nQ 1578 4219 1281 4162 \nQ 984 4106 628 3988 \nL 628 4550 \nQ 988 4650 1302 4700 \nQ 1616 4750 1894 4750 \nQ 2613 4750 3031 4423 \nQ 3450 4097 3450 3541 \nQ 3450 3153 3228 2886 \nQ 3006 2619 2597 2516 \nz\n\" transform=\"scale(0.015625)\"/>\n     </defs>\n     <use xlink:href=\"#DejaVuSans-5b\"/>\n     <use xlink:href=\"#DejaVuSans-33\" x=\"39.013672\"/>\n     <use xlink:href=\"#DejaVuSans-2e\" x=\"102.636719\"/>\n     <use xlink:href=\"#DejaVuSans-5d\" x=\"134.423828\"/>\n    </g>\n   </g>\n  </g>\n  <g id=\"axes_6\">\n   <g id=\"patch_27\">\n    <path d=\"M 143.230087 290.788251 \nL 253.671826 290.788251 \nL 253.671826 180.346512 \nL 143.230087 180.346512 \nz\n\" style=\"fill: #ffffff\"/>\n   </g>\n   <g clip-path=\"url(#pe099d5b132)\">\n    <image xlink:href=\"data:image/png;base64,\niVBORw0KGgoAAAANSUhEUgAAAG8AAABvCAYAAADixZ5gAAABvUlEQVR4nO3c3W4BURSA0Zmmr8hD8pB6qydF1e86/dadiCBftp0Zxrosy2EJ6ePVLyB/VzxY8WDFgxUPVjxY8WDFgxUPVjxY8WDFgxUPVjxY8WDFgxUPVjxY8WDFgxUPVjxY8WCfr34B97bZbE7et9/vn/hKHq/JgxUPVjzYukx2rcLhcPrtbLfbb7f1HdjkwYoHKx7s4cd55467fnLrHjp+/LXPrWnyYMWDFQ/28J232+1uevy4Ay/txNn33LEmD1Y8WPFgTz+3Oe6kW3fiPd37XOd4LnV87+Pta/d7kwcrHqx4MP77vHfeobda1/Xs/U0erHiw4sH4nTc63oHj/huPm8bjME2TByserHiw4sGKByserHiwf3V93myaPFjxYNN9bJ4z20dqkwcrHqx4sOl2Xn/lEULxYMWDFQ9WPFjxYMWDFQ9WPFjxYMWDvfzc5qWfpF9yzXd0ndvM2ygerHiwqf/KY7ZLukZNHqx4sOLB3u6y5nv+tnK247pRkwcrHqx4sLfbefm9Jg9WPFjxYMWDFQ9WPFjxYMWDFQ9WPFjxYMWDFQ9WPFjxYMWDFQ9WPFjxYMWDFQ9WPFjxYF/ZT0jZ4ry/EQAAAABJRU5ErkJggg==\" id=\"image8a81d926d8\" transform=\"scale(1 -1)translate(0 -111)\" x=\"143.230087\" y=\"-179.788251\" width=\"111\" height=\"111\"/>\n   </g>\n   <g id=\"matplotlib.axis_11\"/>\n   <g id=\"matplotlib.axis_12\"/>\n   <g id=\"patch_28\">\n    <path d=\"M 143.230087 290.788251 \nL 143.230087 180.346512 \n\" style=\"fill: none; stroke: #000000; stroke-width: 0.8; stroke-linejoin: miter; stroke-linecap: square\"/>\n   </g>\n   <g id=\"patch_29\">\n    <path d=\"M 253.671826 290.788251 \nL 253.671826 180.346512 \n\" style=\"fill: none; stroke: #000000; stroke-width: 0.8; stroke-linejoin: miter; stroke-linecap: square\"/>\n   </g>\n   <g id=\"patch_30\">\n    <path d=\"M 143.230087 290.788251 \nL 253.671826 290.788251 \n\" style=\"fill: none; stroke: #000000; stroke-width: 0.8; stroke-linejoin: miter; stroke-linecap: square\"/>\n   </g>\n   <g id=\"patch_31\">\n    <path d=\"M 143.230087 180.346512 \nL 253.671826 180.346512 \n\" style=\"fill: none; stroke: #000000; stroke-width: 0.8; stroke-linejoin: miter; stroke-linecap: square\"/>\n   </g>\n   <g id=\"text_6\">\n    <!-- [4.] -->\n    <g transform=\"translate(188.044707 174.346512)scale(0.12 -0.12)\">\n     <defs>\n      <path id=\"DejaVuSans-34\" d=\"M 2419 4116 \nL 825 1625 \nL 2419 1625 \nL 2419 4116 \nz\nM 2253 4666 \nL 3047 4666 \nL 3047 1625 \nL 3713 1625 \nL 3713 1100 \nL 3047 1100 \nL 3047 0 \nL 2419 0 \nL 2419 1100 \nL 313 1100 \nL 313 1709 \nL 2253 4666 \nz\n\" transform=\"scale(0.015625)\"/>\n     </defs>\n     <use xlink:href=\"#DejaVuSans-5b\"/>\n     <use xlink:href=\"#DejaVuSans-34\" x=\"39.013672\"/>\n     <use xlink:href=\"#DejaVuSans-2e\" x=\"102.636719\"/>\n     <use xlink:href=\"#DejaVuSans-5d\" x=\"134.423828\"/>\n    </g>\n   </g>\n  </g>\n  <g id=\"axes_7\">\n   <g id=\"patch_32\">\n    <path d=\"M 275.760174 290.788251 \nL 386.201913 290.788251 \nL 386.201913 180.346512 \nL 275.760174 180.346512 \nz\n\" style=\"fill: #ffffff\"/>\n   </g>\n   <g clip-path=\"url(#p5f12defd03)\">\n    <image xlink:href=\"data:image/png;base64,\niVBORw0KGgoAAAANSUhEUgAAAG8AAABvCAYAAADixZ5gAAACEklEQVR4nO3cUW6CQBRAUWi6L3BlwMqAldFfeYnzSq0MV+/5I7XV5GZ8DmDbpmm2RkhftV+A/s54YMYDMx6Y8cCMB2Y8MOOBGQ/MeGDGAzMemPHAjAdmPDDjgRkPzHhgxgMzHpjxwIwHZjyw79ov4JXGcdwd931fPKZx5YEZD8x4YNVnXpxL8Th7fDQMw8OfTdP0y1fF4MoDMx6Y8cDa5uTv58W91TzPu+N1XXfHXdcd+vv3v78sy+5n2bykceWBGQ/MeGCnz7w4h7KZFmfgu8+xI1x5YMYDMx5Y9XObcabRr7GdyZUHZjww44GdPvPiPq10/U1lrjww44EZD+z0c5vRtu2fPt5n8snnLjOuPDDjgRkPzHObBdl3G+Lx0WuTUZzvcU8cufLAjAdmPLDq+7zsPs62bas9d+bZ7z5kMzPb87rywIwHVn2rkIlvLdnH55L4thMvR8WP8kc/uj8rexv3bfONGA/MeGDVtwrRf/77jezW+tvtVnz82eLzZ7f2u/LAjAdmPLDLzbxsr5OdkirdSni1GRcd3dO68sCMB2Y8sMvNvCg7Hxndn5+80i0Vr+DKAzMemPHALj/z9JgrD8x4YMYDMx6Y8cCMB2Y8MOOBGQ/MeGDGAzMemPHAjAdmPDDjgRkPzHhgxgMzHpjxwIwHZjww44EZD8x4YMYDMx6Y8cCMB2Y8MOOBGQ/MeGDGA/sB3E1/mR21rPkAAAAASUVORK5CYII=\" id=\"image112bce6fd2\" transform=\"scale(1 -1)translate(0 -111)\" x=\"275.760174\" y=\"-179.788251\" width=\"111\" height=\"111\"/>\n   </g>\n   <g id=\"matplotlib.axis_13\"/>\n   <g id=\"matplotlib.axis_14\"/>\n   <g id=\"patch_33\">\n    <path d=\"M 275.760174 290.788251 \nL 275.760174 180.346512 \n\" style=\"fill: none; stroke: #000000; stroke-width: 0.8; stroke-linejoin: miter; stroke-linecap: square\"/>\n   </g>\n   <g id=\"patch_34\">\n    <path d=\"M 386.201913 290.788251 \nL 386.201913 180.346512 \n\" style=\"fill: none; stroke: #000000; stroke-width: 0.8; stroke-linejoin: miter; stroke-linecap: square\"/>\n   </g>\n   <g id=\"patch_35\">\n    <path d=\"M 275.760174 290.788251 \nL 386.201913 290.788251 \n\" style=\"fill: none; stroke: #000000; stroke-width: 0.8; stroke-linejoin: miter; stroke-linecap: square\"/>\n   </g>\n   <g id=\"patch_36\">\n    <path d=\"M 275.760174 180.346512 \nL 386.201913 180.346512 \n\" style=\"fill: none; stroke: #000000; stroke-width: 0.8; stroke-linejoin: miter; stroke-linecap: square\"/>\n   </g>\n   <g id=\"text_7\">\n    <!-- [5.] -->\n    <g transform=\"translate(320.574793 174.346512)scale(0.12 -0.12)\">\n     <defs>\n      <path id=\"DejaVuSans-35\" d=\"M 691 4666 \nL 3169 4666 \nL 3169 4134 \nL 1269 4134 \nL 1269 2991 \nQ 1406 3038 1543 3061 \nQ 1681 3084 1819 3084 \nQ 2600 3084 3056 2656 \nQ 3513 2228 3513 1497 \nQ 3513 744 3044 326 \nQ 2575 -91 1722 -91 \nQ 1428 -91 1123 -41 \nQ 819 9 494 109 \nL 494 744 \nQ 775 591 1075 516 \nQ 1375 441 1709 441 \nQ 2250 441 2565 725 \nQ 2881 1009 2881 1497 \nQ 2881 1984 2565 2268 \nQ 2250 2553 1709 2553 \nQ 1456 2553 1204 2497 \nQ 953 2441 691 2322 \nL 691 4666 \nz\n\" transform=\"scale(0.015625)\"/>\n     </defs>\n     <use xlink:href=\"#DejaVuSans-5b\"/>\n     <use xlink:href=\"#DejaVuSans-35\" x=\"39.013672\"/>\n     <use xlink:href=\"#DejaVuSans-2e\" x=\"102.636719\"/>\n     <use xlink:href=\"#DejaVuSans-5d\" x=\"134.423828\"/>\n    </g>\n   </g>\n  </g>\n  <g id=\"axes_8\">\n   <g id=\"patch_37\">\n    <path d=\"M 408.290261 290.788251 \nL 518.732 290.788251 \nL 518.732 180.346512 \nL 408.290261 180.346512 \nz\n\" style=\"fill: #ffffff\"/>\n   </g>\n   <g clip-path=\"url(#p9e78b2b7ac)\">\n    <image xlink:href=\"data:image/png;base64,\niVBORw0KGgoAAAANSUhEUgAAAG8AAABvCAYAAADixZ5gAAAB30lEQVR4nO3c3U6EMBBAYWp8b+DJ8W6zjokV+zM9u+e7M0YhOSmTsrBl27ZrE9JH9gno/4wHZjww44EZD8x4YMYDMx6Y8cCMB2Y8MOOBGQ/MeGDGAzMemPHAjAdmPDDjgRkPzHhgxgP7zD6BlRzH0fT72Vx5YMYDMx5Y2W6+q3Bd915tOM/z28+ZcyMee9/3pv9XSmn6+1auPDDjgRkPbPjM+3HAxDnReu5R9jx35YEZD8x4YLdnXuteaebM672vq5k9z115YMYDMx7Y7ZkXrbzv672vq3Hm6c+MB2Y8sOZnWOJ1fvaceWeuPDDjgRkPrPtzm/Ezrtr9xDgjs58LIXHlgRkPzHhgzfc2azKf8/TeppZlPDDjgQ2feZnvB8yeebU9bu+Z6MoDMx7Y8Mtm1Psy+tvWYvajfzVeNvVgPDDjgU2fedFqc6mn0a+AufLAjAdmPLD0mRe90gwc/RGRKw/MeGDGA1tu5tWs/Dj97K/2cOWBGQ/MeGC4mVfzPGdqe8Q4o1qOlcGVB2Y8MOOBvdzMeyeuPDDjgRkPzHhgxgMzHpjxwIwHZjww44EZD8x4YMYDMx6Y8cCMB2Y8MOOBGQ/MeGDGAzMemPHAjAdmPDDjgRkPzHhgxgMzHpjxwL4APYNny8d/ldYAAAAASUVORK5CYII=\" id=\"imageac86477bae\" transform=\"scale(1 -1)translate(0 -111)\" x=\"408.290261\" y=\"-179.788251\" width=\"111\" height=\"111\"/>\n   </g>\n   <g id=\"matplotlib.axis_15\"/>\n   <g id=\"matplotlib.axis_16\"/>\n   <g id=\"patch_38\">\n    <path d=\"M 408.290261 290.788251 \nL 408.290261 180.346512 \n\" style=\"fill: none; stroke: #000000; stroke-width: 0.8; stroke-linejoin: miter; stroke-linecap: square\"/>\n   </g>\n   <g id=\"patch_39\">\n    <path d=\"M 518.732 290.788251 \nL 518.732 180.346512 \n\" style=\"fill: none; stroke: #000000; stroke-width: 0.8; stroke-linejoin: miter; stroke-linecap: square\"/>\n   </g>\n   <g id=\"patch_40\">\n    <path d=\"M 408.290261 290.788251 \nL 518.732 290.788251 \n\" style=\"fill: none; stroke: #000000; stroke-width: 0.8; stroke-linejoin: miter; stroke-linecap: square\"/>\n   </g>\n   <g id=\"patch_41\">\n    <path d=\"M 408.290261 180.346512 \nL 518.732 180.346512 \n\" style=\"fill: none; stroke: #000000; stroke-width: 0.8; stroke-linejoin: miter; stroke-linecap: square\"/>\n   </g>\n   <g id=\"text_8\">\n    <!-- [6.] -->\n    <g transform=\"translate(453.10488 174.346512)scale(0.12 -0.12)\">\n     <defs>\n      <path id=\"DejaVuSans-36\" d=\"M 2113 2584 \nQ 1688 2584 1439 2293 \nQ 1191 2003 1191 1497 \nQ 1191 994 1439 701 \nQ 1688 409 2113 409 \nQ 2538 409 2786 701 \nQ 3034 994 3034 1497 \nQ 3034 2003 2786 2293 \nQ 2538 2584 2113 2584 \nz\nM 3366 4563 \nL 3366 3988 \nQ 3128 4100 2886 4159 \nQ 2644 4219 2406 4219 \nQ 1781 4219 1451 3797 \nQ 1122 3375 1075 2522 \nQ 1259 2794 1537 2939 \nQ 1816 3084 2150 3084 \nQ 2853 3084 3261 2657 \nQ 3669 2231 3669 1497 \nQ 3669 778 3244 343 \nQ 2819 -91 2113 -91 \nQ 1303 -91 875 529 \nQ 447 1150 447 2328 \nQ 447 3434 972 4092 \nQ 1497 4750 2381 4750 \nQ 2619 4750 2861 4703 \nQ 3103 4656 3366 4563 \nz\n\" transform=\"scale(0.015625)\"/>\n     </defs>\n     <use xlink:href=\"#DejaVuSans-5b\"/>\n     <use xlink:href=\"#DejaVuSans-36\" x=\"39.013672\"/>\n     <use xlink:href=\"#DejaVuSans-2e\" x=\"102.636719\"/>\n     <use xlink:href=\"#DejaVuSans-5d\" x=\"134.423828\"/>\n    </g>\n   </g>\n  </g>\n  <g id=\"axes_9\">\n   <g id=\"patch_42\">\n    <path d=\"M 10.7 448.816638 \nL 121.141739 448.816638 \nL 121.141739 338.374899 \nL 10.7 338.374899 \nz\n\" style=\"fill: #ffffff\"/>\n   </g>\n   <g clip-path=\"url(#p399a5ab70e)\">\n    <image xlink:href=\"data:image/png;base64,\niVBORw0KGgoAAAANSUhEUgAAAG8AAABvCAYAAADixZ5gAAACBklEQVR4nO3cQW6DMBBAUah6RTgkHJIum86CiWNj+1f/7aJWJdXXaESArMuyXIuQvka/AX3OeGDGAzMemPHAjAdmPDDjgRkPzHhgxgMzHpjxwIwHZjww44EZD8x4YMYDMx6Y8cCMB2Y8sO+nD3Acx5/X53nevtb7nDww44EZD+zxnRfFHVgq25H7vr/9t7ZtqzrWaE4emPHAjAe2Lp2fz4s7L9s7NbKdFY8df79kf47g5IEZD8x4YN13XhT3Tu15YEuz70AnD8x4YMYDG77zMtd1//bu9lDr/Vn7WWfra5lOHpjxwIwHNv3Oy84Da87Fsn3aW+n/4uSBGQ/MeGDT77woux74uida34MSj5VdD6w9z1zX9fbnTh6Y8cCMB9b9vs1aca88eQ9Mduxsp2Y7KyrdkU4emPHAjAeG23mZ1x04+7MGUek9Mk4emPHAjAdmPDDjgRkPDHeqkH0c1vPjstGcPDDjgRkPbPqdV3p73myPYT3JyQMzHpjxwIbvvNaPNZMvCZVy8sCMB2Y8sO63u9fuuJKvpJr9qzhqOXlgxgMzHlj387za620lX7PoeZ6mZTww44F133mlj2hlj1X99712x8kDMx6Y8cBwX+WhX04emPHAjAdmPDDjgRkPzHhgxgMzHpjxwIwHZjww44EZD8x4YMYDMx6Y8cCMB2Y8MOOBGQ/MeGA/jJB75iHfIDAAAAAASUVORK5CYII=\" id=\"image2183ae3f4c\" transform=\"scale(1 -1)translate(0 -111)\" x=\"10.7\" y=\"-337.816638\" width=\"111\" height=\"111\"/>\n   </g>\n   <g id=\"matplotlib.axis_17\"/>\n   <g id=\"matplotlib.axis_18\"/>\n   <g id=\"patch_43\">\n    <path d=\"M 10.7 448.816638 \nL 10.7 338.374899 \n\" style=\"fill: none; stroke: #000000; stroke-width: 0.8; stroke-linejoin: miter; stroke-linecap: square\"/>\n   </g>\n   <g id=\"patch_44\">\n    <path d=\"M 121.141739 448.816638 \nL 121.141739 338.374899 \n\" style=\"fill: none; stroke: #000000; stroke-width: 0.8; stroke-linejoin: miter; stroke-linecap: square\"/>\n   </g>\n   <g id=\"patch_45\">\n    <path d=\"M 10.7 448.816638 \nL 121.141739 448.816638 \n\" style=\"fill: none; stroke: #000000; stroke-width: 0.8; stroke-linejoin: miter; stroke-linecap: square\"/>\n   </g>\n   <g id=\"patch_46\">\n    <path d=\"M 10.7 338.374899 \nL 121.141739 338.374899 \n\" style=\"fill: none; stroke: #000000; stroke-width: 0.8; stroke-linejoin: miter; stroke-linecap: square\"/>\n   </g>\n   <g id=\"text_9\">\n    <!-- [7.] -->\n    <g transform=\"translate(55.51462 332.374899)scale(0.12 -0.12)\">\n     <defs>\n      <path id=\"DejaVuSans-37\" d=\"M 525 4666 \nL 3525 4666 \nL 3525 4397 \nL 1831 0 \nL 1172 0 \nL 2766 4134 \nL 525 4134 \nL 525 4666 \nz\n\" transform=\"scale(0.015625)\"/>\n     </defs>\n     <use xlink:href=\"#DejaVuSans-5b\"/>\n     <use xlink:href=\"#DejaVuSans-37\" x=\"39.013672\"/>\n     <use xlink:href=\"#DejaVuSans-2e\" x=\"102.636719\"/>\n     <use xlink:href=\"#DejaVuSans-5d\" x=\"134.423828\"/>\n    </g>\n   </g>\n  </g>\n  <g id=\"axes_10\">\n   <g id=\"patch_47\">\n    <path d=\"M 143.230087 448.816638 \nL 253.671826 448.816638 \nL 253.671826 338.374899 \nL 143.230087 338.374899 \nz\n\" style=\"fill: #ffffff\"/>\n   </g>\n   <g clip-path=\"url(#pbddc91cba1)\">\n    <image xlink:href=\"data:image/png;base64,\niVBORw0KGgoAAAANSUhEUgAAAG8AAABvCAYAAADixZ5gAAAB7klEQVR4nO3cwW6DMBAAUbvqfwNfTm+tailY7q4N08y75dCIaGRWRqa1lHIWIX3cfQH6O+OBGQ/MeGDGAzMemPHAjAdmPDDjgRkPzHhgxgMzHpjxwIwHZjww44EZD8x4YMYDMx6Y8cCMB2Y8MOOBGQ/s8+4L2Pf98rNec+WBGQ/MeGC1TH4/7zxjX38cx6/PzsQfrjww44EZDyw889oZtG1b5OuGjczE7GuttYb+PsqVB2Y8MOOBhWfe6D6unVGt1TMz0+oZ6MoDMx6Y8cCW7/NG58LMfWTvWqLzfPZzWFcemPHAjAd2+xmWnt7ciMzA3vmZdib25m/vc/Y+0JUHZjww44E9fp/Xip6JuTL72px5+mY8MOOBpZ/b7N33R5//Zc7U2c8qs397jysPzHhg6bfN0dtc9FhE5FaUfRtdvW1y5YEZD8x4YI9/xasn85FT9utozjy9ZDww44E9/hhEq7cvzPzu0SMWq4/qu/LAjAdmPLDp+7zW04+QX8nes7rPe2PGAzMe2PKZ1xo9BvEk0dfPnHlvzHhgxgO7feb9Z7P/BbMrD8x4YMYDc+aBufLAjAdmPDDjgRkPzHhgxgMzHpjxwIwHZjww44EZD8x4YMYDMx6Y8cCMB2Y8MOOBGQ/MeGDGAzMemPHAjAdmPLAvEX+OxUS/Yq8AAAAASUVORK5CYII=\" id=\"imagee23149af66\" transform=\"scale(1 -1)translate(0 -111)\" x=\"143.230087\" y=\"-337.816638\" width=\"111\" height=\"111\"/>\n   </g>\n   <g id=\"matplotlib.axis_19\"/>\n   <g id=\"matplotlib.axis_20\"/>\n   <g id=\"patch_48\">\n    <path d=\"M 143.230087 448.816638 \nL 143.230087 338.374899 \n\" style=\"fill: none; stroke: #000000; stroke-width: 0.8; stroke-linejoin: miter; stroke-linecap: square\"/>\n   </g>\n   <g id=\"patch_49\">\n    <path d=\"M 253.671826 448.816638 \nL 253.671826 338.374899 \n\" style=\"fill: none; stroke: #000000; stroke-width: 0.8; stroke-linejoin: miter; stroke-linecap: square\"/>\n   </g>\n   <g id=\"patch_50\">\n    <path d=\"M 143.230087 448.816638 \nL 253.671826 448.816638 \n\" style=\"fill: none; stroke: #000000; stroke-width: 0.8; stroke-linejoin: miter; stroke-linecap: square\"/>\n   </g>\n   <g id=\"patch_51\">\n    <path d=\"M 143.230087 338.374899 \nL 253.671826 338.374899 \n\" style=\"fill: none; stroke: #000000; stroke-width: 0.8; stroke-linejoin: miter; stroke-linecap: square\"/>\n   </g>\n   <g id=\"text_10\">\n    <!-- [8.] -->\n    <g transform=\"translate(188.044707 332.374899)scale(0.12 -0.12)\">\n     <defs>\n      <path id=\"DejaVuSans-38\" d=\"M 2034 2216 \nQ 1584 2216 1326 1975 \nQ 1069 1734 1069 1313 \nQ 1069 891 1326 650 \nQ 1584 409 2034 409 \nQ 2484 409 2743 651 \nQ 3003 894 3003 1313 \nQ 3003 1734 2745 1975 \nQ 2488 2216 2034 2216 \nz\nM 1403 2484 \nQ 997 2584 770 2862 \nQ 544 3141 544 3541 \nQ 544 4100 942 4425 \nQ 1341 4750 2034 4750 \nQ 2731 4750 3128 4425 \nQ 3525 4100 3525 3541 \nQ 3525 3141 3298 2862 \nQ 3072 2584 2669 2484 \nQ 3125 2378 3379 2068 \nQ 3634 1759 3634 1313 \nQ 3634 634 3220 271 \nQ 2806 -91 2034 -91 \nQ 1263 -91 848 271 \nQ 434 634 434 1313 \nQ 434 1759 690 2068 \nQ 947 2378 1403 2484 \nz\nM 1172 3481 \nQ 1172 3119 1398 2916 \nQ 1625 2713 2034 2713 \nQ 2441 2713 2670 2916 \nQ 2900 3119 2900 3481 \nQ 2900 3844 2670 4047 \nQ 2441 4250 2034 4250 \nQ 1625 4250 1398 4047 \nQ 1172 3844 1172 3481 \nz\n\" transform=\"scale(0.015625)\"/>\n     </defs>\n     <use xlink:href=\"#DejaVuSans-5b\"/>\n     <use xlink:href=\"#DejaVuSans-38\" x=\"39.013672\"/>\n     <use xlink:href=\"#DejaVuSans-2e\" x=\"102.636719\"/>\n     <use xlink:href=\"#DejaVuSans-5d\" x=\"134.423828\"/>\n    </g>\n   </g>\n  </g>\n  <g id=\"axes_11\">\n   <g id=\"patch_52\">\n    <path d=\"M 275.760174 448.816638 \nL 386.201913 448.816638 \nL 386.201913 338.374899 \nL 275.760174 338.374899 \nz\n\" style=\"fill: #ffffff\"/>\n   </g>\n   <g clip-path=\"url(#p7df2edab40)\">\n    <image xlink:href=\"data:image/png;base64,\niVBORw0KGgoAAAANSUhEUgAAAG8AAABvCAYAAADixZ5gAAACHklEQVR4nO3cUW7CMBAA0aTiiskhySHT37BCWRkT2xPm/aGqBTRyV7YM8zRN+ySkv94vQJ8zHpjxwIwHZjww44EZD8x4YMYDMx6Y8cCMB2Y8MOOBGQ/MeGDGAzMemPHAHr1fQK1lWV4eb9vW6ZW058oDMx6Y8cBwM+/5fL48Ppt567o2eU29uPLAjAdmPLDhZ142436ZKw/MeGDGAxtu5pXOuHiWefe93ZErD8x4YMYD6z7z4kyrnXHH38/+Fn0+uvLAjAdmPLDhZl4mm1MlMy/uKeM8Hf0+jCsPzHhgxgObp8bfPRbnUJw7Uc3Z5b7XvbXRz01deWDGAzMeWPN9Xum+rmavFX+39Lmz+dx7X+jKAzMemPHAmu/zSvde8zx//Fwln2t4p3Y+Xz0TXXlgxgMzHljzfV7t3utK8eyy9A5p6X2c7Kw0m5GuPDDjgQ3/b7PnV3WcXSt89zgqvYaRPX987648MOOBGQ+s+fFY9O3jsuOcqZ0ptb79kez43l15YMYDMx5Y9+vu2ZFUlP38TOtrCyVX89899njsxowHZjyw7vu86Mqvqxr9+nopVx6Y8cCMBzbczIuyfd3ZTGx9Fa81Vx6Y8cCMBzb8zMuUzLy7ceWBGQ/MeGD4mffLXHlgxgMzHpjxwIwHZjww44EZD8x4YMYDMx6Y8cCMB2Y8MOOBGQ/MeGDGAzMemPHAjAdmPDDjgRkPzHhgxgMzHtg/N2Ob4DEjU4sAAAAASUVORK5CYII=\" id=\"imageaccb102309\" transform=\"scale(1 -1)translate(0 -111)\" x=\"275.760174\" y=\"-337.816638\" width=\"111\" height=\"111\"/>\n   </g>\n   <g id=\"matplotlib.axis_21\"/>\n   <g id=\"matplotlib.axis_22\"/>\n   <g id=\"patch_53\">\n    <path d=\"M 275.760174 448.816638 \nL 275.760174 338.374899 \n\" style=\"fill: none; stroke: #000000; stroke-width: 0.8; stroke-linejoin: miter; stroke-linecap: square\"/>\n   </g>\n   <g id=\"patch_54\">\n    <path d=\"M 386.201913 448.816638 \nL 386.201913 338.374899 \n\" style=\"fill: none; stroke: #000000; stroke-width: 0.8; stroke-linejoin: miter; stroke-linecap: square\"/>\n   </g>\n   <g id=\"patch_55\">\n    <path d=\"M 275.760174 448.816638 \nL 386.201913 448.816638 \n\" style=\"fill: none; stroke: #000000; stroke-width: 0.8; stroke-linejoin: miter; stroke-linecap: square\"/>\n   </g>\n   <g id=\"patch_56\">\n    <path d=\"M 275.760174 338.374899 \nL 386.201913 338.374899 \n\" style=\"fill: none; stroke: #000000; stroke-width: 0.8; stroke-linejoin: miter; stroke-linecap: square\"/>\n   </g>\n   <g id=\"text_11\">\n    <!-- [9.] -->\n    <g transform=\"translate(320.574793 332.374899)scale(0.12 -0.12)\">\n     <defs>\n      <path id=\"DejaVuSans-39\" d=\"M 703 97 \nL 703 672 \nQ 941 559 1184 500 \nQ 1428 441 1663 441 \nQ 2288 441 2617 861 \nQ 2947 1281 2994 2138 \nQ 2813 1869 2534 1725 \nQ 2256 1581 1919 1581 \nQ 1219 1581 811 2004 \nQ 403 2428 403 3163 \nQ 403 3881 828 4315 \nQ 1253 4750 1959 4750 \nQ 2769 4750 3195 4129 \nQ 3622 3509 3622 2328 \nQ 3622 1225 3098 567 \nQ 2575 -91 1691 -91 \nQ 1453 -91 1209 -44 \nQ 966 3 703 97 \nz\nM 1959 2075 \nQ 2384 2075 2632 2365 \nQ 2881 2656 2881 3163 \nQ 2881 3666 2632 3958 \nQ 2384 4250 1959 4250 \nQ 1534 4250 1286 3958 \nQ 1038 3666 1038 3163 \nQ 1038 2656 1286 2365 \nQ 1534 2075 1959 2075 \nz\n\" transform=\"scale(0.015625)\"/>\n     </defs>\n     <use xlink:href=\"#DejaVuSans-5b\"/>\n     <use xlink:href=\"#DejaVuSans-39\" x=\"39.013672\"/>\n     <use xlink:href=\"#DejaVuSans-2e\" x=\"102.636719\"/>\n     <use xlink:href=\"#DejaVuSans-5d\" x=\"134.423828\"/>\n    </g>\n   </g>\n  </g>\n  <g id=\"axes_12\">\n   <g id=\"patch_57\">\n    <path d=\"M 408.290261 448.816638 \nL 518.732 448.816638 \nL 518.732 338.374899 \nL 408.290261 338.374899 \nz\n\" style=\"fill: #ffffff\"/>\n   </g>\n   <g clip-path=\"url(#p5cdb8e3ea3)\">\n    <image xlink:href=\"data:image/png;base64,\niVBORw0KGgoAAAANSUhEUgAAAG8AAABvCAYAAADixZ5gAAAB10lEQVR4nO3cQW6DMBBAUTvqFeGQcEi6JbNg5FI7/uS/XZQojfQ1nVLh1FLKUYT0+vQH0N8ZD8x4YMYDMx6Y8cCMB2Y8MOOBGQ/MeGDGAzMemPHAjAdmPDDjgRkPzHhgxgMzHpjxwIwHZjww44EZD8x4YMYDMx6Y8cCMB/bT+wds2/b2eFmWy9fv+970fPb6J3PywIwHZjywWjqfST+OsUfezzvw6fvRyQMzHpjxwLrvvCi7zovXhT217sTZdqaTB2Y8MOOBDd95mbgTs8cjjd6J2fs5eWDGAzMe2HQ7LxN33sjrwt7ijlvX9fL1Th6Y8cCMB4bbedGdHZj9bzO+d/b8XdmOi5w8MOOBGQ8Mv/Oi8x5qvQastf73x+nKyQMzHtjjfm1eyW5DjH+qz3bbQ+TkgRkPzHhg3Y94zSTutOz4mTtP3RgPzHhgw481RyNvp7t7pHo2Th6Y8cCMB/a4Y80tWm+1m42TB2Y8MOOBdd952bXV3edb0Hdc5OSBGQ/MeGD4e1iujj379VWalvHAjAeG33nfzMkDMx6Y8cCMB2Y8MOOBGQ/MeGDGAzMemPHAjAdmPDDjgRkPzHhgxgMzHpjxwIwHZjww44EZD8x4YMYDMx6Y8cB+AWu5bM1GDBk6AAAAAElFTkSuQmCC\" id=\"image2b2c4e58a1\" transform=\"scale(1 -1)translate(0 -111)\" x=\"408.290261\" y=\"-337.816638\" width=\"111\" height=\"111\"/>\n   </g>\n   <g id=\"matplotlib.axis_23\"/>\n   <g id=\"matplotlib.axis_24\"/>\n   <g id=\"patch_58\">\n    <path d=\"M 408.290261 448.816638 \nL 408.290261 338.374899 \n\" style=\"fill: none; stroke: #000000; stroke-width: 0.8; stroke-linejoin: miter; stroke-linecap: square\"/>\n   </g>\n   <g id=\"patch_59\">\n    <path d=\"M 518.732 448.816638 \nL 518.732 338.374899 \n\" style=\"fill: none; stroke: #000000; stroke-width: 0.8; stroke-linejoin: miter; stroke-linecap: square\"/>\n   </g>\n   <g id=\"patch_60\">\n    <path d=\"M 408.290261 448.816638 \nL 518.732 448.816638 \n\" style=\"fill: none; stroke: #000000; stroke-width: 0.8; stroke-linejoin: miter; stroke-linecap: square\"/>\n   </g>\n   <g id=\"patch_61\">\n    <path d=\"M 408.290261 338.374899 \nL 518.732 338.374899 \n\" style=\"fill: none; stroke: #000000; stroke-width: 0.8; stroke-linejoin: miter; stroke-linecap: square\"/>\n   </g>\n   <g id=\"text_12\">\n    <!-- [4.] -->\n    <g transform=\"translate(453.10488 332.374899)scale(0.12 -0.12)\">\n     <use xlink:href=\"#DejaVuSans-5b\"/>\n     <use xlink:href=\"#DejaVuSans-34\" x=\"39.013672\"/>\n     <use xlink:href=\"#DejaVuSans-2e\" x=\"102.636719\"/>\n     <use xlink:href=\"#DejaVuSans-5d\" x=\"134.423828\"/>\n    </g>\n   </g>\n  </g>\n </g>\n <defs>\n  <clipPath id=\"p350e4756bf\">\n   <rect x=\"10.7\" y=\"22.318125\" width=\"110.441739\" height=\"110.441739\"/>\n  </clipPath>\n  <clipPath id=\"pb54544771d\">\n   <rect x=\"143.230087\" y=\"22.318125\" width=\"110.441739\" height=\"110.441739\"/>\n  </clipPath>\n  <clipPath id=\"p6c673550dc\">\n   <rect x=\"275.760174\" y=\"22.318125\" width=\"110.441739\" height=\"110.441739\"/>\n  </clipPath>\n  <clipPath id=\"p60c7a126a5\">\n   <rect x=\"408.290261\" y=\"22.318125\" width=\"110.441739\" height=\"110.441739\"/>\n  </clipPath>\n  <clipPath id=\"pf0681685e6\">\n   <rect x=\"10.7\" y=\"180.346512\" width=\"110.441739\" height=\"110.441739\"/>\n  </clipPath>\n  <clipPath id=\"pe099d5b132\">\n   <rect x=\"143.230087\" y=\"180.346512\" width=\"110.441739\" height=\"110.441739\"/>\n  </clipPath>\n  <clipPath id=\"p5f12defd03\">\n   <rect x=\"275.760174\" y=\"180.346512\" width=\"110.441739\" height=\"110.441739\"/>\n  </clipPath>\n  <clipPath id=\"p9e78b2b7ac\">\n   <rect x=\"408.290261\" y=\"180.346512\" width=\"110.441739\" height=\"110.441739\"/>\n  </clipPath>\n  <clipPath id=\"p399a5ab70e\">\n   <rect x=\"10.7\" y=\"338.374899\" width=\"110.441739\" height=\"110.441739\"/>\n  </clipPath>\n  <clipPath id=\"pbddc91cba1\">\n   <rect x=\"143.230087\" y=\"338.374899\" width=\"110.441739\" height=\"110.441739\"/>\n  </clipPath>\n  <clipPath id=\"p7df2edab40\">\n   <rect x=\"275.760174\" y=\"338.374899\" width=\"110.441739\" height=\"110.441739\"/>\n  </clipPath>\n  <clipPath id=\"p5cdb8e3ea3\">\n   <rect x=\"408.290261\" y=\"338.374899\" width=\"110.441739\" height=\"110.441739\"/>\n  </clipPath>\n </defs>\n</svg>\n",
      "text/plain": [
       "<Figure size 518.4x518.4 with 12 Axes>"
      ]
     },
     "metadata": {},
     "output_type": "display_data"
    }
   ],
   "source": [
    "plot_mnist(X, y, h, w)\n",
    "X_train, X_test, y_train, y_test = train_test_split(X, y, test_size=0.3, random_state=161)\n",
    "clf = tree.DecisionTreeClassifier(max_depth=10).fit(X_train, y_train)"
   ]
  },
  {
   "cell_type": "code",
   "execution_count": 12,
   "id": "83bc1d90",
   "metadata": {},
   "outputs": [
    {
     "data": {
      "text/plain": [
       "0.824047619047619"
      ]
     },
     "execution_count": 12,
     "metadata": {},
     "output_type": "execute_result"
    }
   ],
   "source": [
    "y_predict = clf.predict(X_test)\n",
    "f1_score(y_predict, y_test, average=\"micro\")"
   ]
  },
  {
   "cell_type": "code",
   "execution_count": 13,
   "id": "a13fc005",
   "metadata": {},
   "outputs": [
    {
     "data": {
      "text/plain": [
       "array([[1839,    5,   46,   23,   10,   66,   41,    4,   35,   18],\n",
       "       [   1, 2185,   32,   20,   16,   11,   12,   23,   52,    9],\n",
       "       [  39,   43, 1698,   76,   32,   57,   83,   51,  120,   34],\n",
       "       [  22,   20,   50, 1628,   17,  127,   25,   28,   73,   63],\n",
       "       [   8,    8,   53,   21, 1663,   37,   45,   48,   31,   99],\n",
       "       [  31,   13,   19,  135,   40, 1404,   41,   14,   91,   88],\n",
       "       [  32,    8,   57,   32,   37,   66, 1816,    6,   46,   11],\n",
       "       [  26,    9,   44,   34,   20,   25,    6, 1888,   20,   76],\n",
       "       [  32,   18,   84,   45,   14,   50,   19,   22, 1516,   36],\n",
       "       [  29,   10,   29,   91,  189,   45,   14,  108,   99, 1668]])"
      ]
     },
     "execution_count": 13,
     "metadata": {},
     "output_type": "execute_result"
    }
   ],
   "source": [
    "confusion_matrix(y_predict, y_test)\n"
   ]
  },
  {
   "cell_type": "code",
   "execution_count": 14,
   "id": "18cd6307",
   "metadata": {},
   "outputs": [
    {
     "data": {
      "text/plain": [
       "'              precision    recall  f1-score   support\\n\\n         0.0       0.89      0.88      0.89      2087\\n         1.0       0.94      0.93      0.93      2361\\n         2.0       0.80      0.76      0.78      2233\\n         3.0       0.77      0.79      0.78      2053\\n         4.0       0.82      0.83      0.82      2013\\n         5.0       0.74      0.75      0.75      1876\\n         6.0       0.86      0.86      0.86      2111\\n         7.0       0.86      0.88      0.87      2148\\n         8.0       0.73      0.83      0.77      1836\\n         9.0       0.79      0.73      0.76      2282\\n\\n    accuracy                           0.82     21000\\n   macro avg       0.82      0.82      0.82     21000\\nweighted avg       0.83      0.82      0.82     21000\\n'"
      ]
     },
     "execution_count": 14,
     "metadata": {},
     "output_type": "execute_result"
    }
   ],
   "source": [
    "classification_report(y_predict, y_test)"
   ]
  }
 ],
 "metadata": {
  "kernelspec": {
   "display_name": "Python 3",
   "language": "python",
   "name": "python3"
  },
  "language_info": {
   "codemirror_mode": {
    "name": "ipython",
    "version": 3
   },
   "file_extension": ".py",
   "mimetype": "text/x-python",
   "name": "python",
   "nbconvert_exporter": "python",
   "pygments_lexer": "ipython3",
   "version": "3.9.2"
  }
 },
 "nbformat": 4,
 "nbformat_minor": 5
}
